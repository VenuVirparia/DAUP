{
 "cells": [
  {
   "cell_type": "markdown",
   "id": "086d5dae-2899-4a04-b148-56ffb5543de3",
   "metadata": {},
   "source": [
    "### Refer: https://numpy.org/doc/2.1/index.html"
   ]
  },
  {
   "cell_type": "code",
   "execution_count": 1,
   "id": "072b9d2d-f805-4da0-bc37-149263bb5c08",
   "metadata": {},
   "outputs": [
    {
     "name": "stdout",
     "output_type": "stream",
     "text": [
      "Requirement already satisfied: numpy in c:\\users\\student\\anaconda4\\lib\\site-packages (1.26.4)\n",
      "Note: you may need to restart the kernel to use updated packages.\n"
     ]
    }
   ],
   "source": [
    "pip install numpy\n"
   ]
  },
  {
   "cell_type": "code",
   "execution_count": 2,
   "id": "dea5c860-1fa0-424e-9869-481badbf2ee7",
   "metadata": {},
   "outputs": [],
   "source": [
    "import numpy as np"
   ]
  },
  {
   "cell_type": "code",
   "execution_count": 3,
   "id": "e298c463-9e4c-4dc8-807b-fa492e0d3cac",
   "metadata": {},
   "outputs": [
    {
     "name": "stdout",
     "output_type": "stream",
     "text": [
      "[10 20 30]\n"
     ]
    }
   ],
   "source": [
    "a = np.array([10,20,30])\n",
    "print(a)"
   ]
  },
  {
   "cell_type": "code",
   "execution_count": 5,
   "id": "19bc6fcf-a65d-4403-97ca-a2054ed645c7",
   "metadata": {},
   "outputs": [
    {
     "name": "stdout",
     "output_type": "stream",
     "text": [
      "[[ 1  2  3]\n",
      " [10 20 30]]\n"
     ]
    }
   ],
   "source": [
    "b = np.array([[1,2,3],[10,20,30]])\n",
    "print(b)"
   ]
  },
  {
   "cell_type": "code",
   "execution_count": 6,
   "id": "44e28e60-8505-4e0f-9fd4-8281d53eda01",
   "metadata": {},
   "outputs": [
    {
     "data": {
      "text/plain": [
       "array([1, 2, 3])"
      ]
     },
     "execution_count": 6,
     "metadata": {},
     "output_type": "execute_result"
    }
   ],
   "source": [
    "b[0]"
   ]
  },
  {
   "cell_type": "code",
   "execution_count": 7,
   "id": "067a2353-2c4e-46db-895f-4c26e4512b53",
   "metadata": {},
   "outputs": [
    {
     "data": {
      "text/plain": [
       "20"
      ]
     },
     "execution_count": 7,
     "metadata": {},
     "output_type": "execute_result"
    }
   ],
   "source": [
    "b[1][1]"
   ]
  },
  {
   "cell_type": "code",
   "execution_count": 8,
   "id": "365af7c7-b158-419f-a3ff-153e07da7f8d",
   "metadata": {},
   "outputs": [
    {
     "data": {
      "text/plain": [
       "'1.26.4'"
      ]
     },
     "execution_count": 8,
     "metadata": {},
     "output_type": "execute_result"
    }
   ],
   "source": [
    "np.__version__"
   ]
  },
  {
   "cell_type": "code",
   "execution_count": 9,
   "id": "10c2a12a-f04c-4fd7-a370-43c9b7c856d7",
   "metadata": {},
   "outputs": [
    {
     "data": {
      "text/plain": [
       "numpy.ndarray"
      ]
     },
     "execution_count": 9,
     "metadata": {},
     "output_type": "execute_result"
    }
   ],
   "source": [
    "type(b)"
   ]
  },
  {
   "cell_type": "markdown",
   "id": "34972029-a761-4cc5-b761-1c565604cc7a",
   "metadata": {},
   "source": [
    "\n",
    "### np.arange(start, end, step)"
   ]
  },
  {
   "cell_type": "code",
   "execution_count": 11,
   "id": "96440cce-9171-4154-a018-5b15abbc97ae",
   "metadata": {},
   "outputs": [
    {
     "data": {
      "text/plain": [
       "array([0, 1, 2, 3, 4])"
      ]
     },
     "execution_count": 11,
     "metadata": {},
     "output_type": "execute_result"
    }
   ],
   "source": [
    "np.arange(5)"
   ]
  },
  {
   "cell_type": "code",
   "execution_count": 12,
   "id": "d97f1293-55db-40b4-bd66-3661f1a13fba",
   "metadata": {},
   "outputs": [
    {
     "data": {
      "text/plain": [
       "array([0., 1., 2., 3., 4.])"
      ]
     },
     "execution_count": 12,
     "metadata": {},
     "output_type": "execute_result"
    }
   ],
   "source": [
    "np.arange(5,dtype=float)"
   ]
  },
  {
   "cell_type": "code",
   "execution_count": 13,
   "id": "1f40933e-87a8-4e78-9ba3-90563b250c1c",
   "metadata": {},
   "outputs": [
    {
     "data": {
      "text/plain": [
       "array([1, 3, 5, 7, 9])"
      ]
     },
     "execution_count": 13,
     "metadata": {},
     "output_type": "execute_result"
    }
   ],
   "source": [
    "np.arange(1,11,2)"
   ]
  },
  {
   "cell_type": "code",
   "execution_count": 14,
   "id": "523cf392-af01-4dab-a117-7bd950fe7293",
   "metadata": {},
   "outputs": [
    {
     "data": {
      "text/plain": [
       "array([-3, -2, -1,  0,  1,  2,  3,  4,  5,  6,  7,  8])"
      ]
     },
     "execution_count": 14,
     "metadata": {},
     "output_type": "execute_result"
    }
   ],
   "source": [
    "np.arange(-3, 3, 0.5, dtype=int)\n"
   ]
  },
  {
   "cell_type": "markdown",
   "id": "342b9a67-48c0-4b19-8214-595747739265",
   "metadata": {},
   "source": [
    "### np.linspace\n",
    "numpy.linspace(start, stop, num=50, endpoint=True, retstep=False, dtype=None, axis=0, *, device=None)\r\n",
    "Return evenly spaced numbers over a specified interval.\r\n",
    "\r\n",
    "Returns num evenly spaced samples, calculated over the interval [start, stop].\r\n",
    "\r\n",
    "The endpoint of the interval can optionally be excluded."
   ]
  },
  {
   "cell_type": "code",
   "execution_count": 38,
   "id": "cf671469-c278-4e44-b174-13b966f11710",
   "metadata": {},
   "outputs": [
    {
     "data": {
      "text/plain": [
       "array([2. , 2.2, 2.4, 2.6, 2.8, 3. ])"
      ]
     },
     "execution_count": 38,
     "metadata": {},
     "output_type": "execute_result"
    }
   ],
   "source": [
    "np.linspace(2, 3, num=6)"
   ]
  },
  {
   "cell_type": "markdown",
   "id": "eff57c68-bcad-45cf-9a67-90435fd69d24",
   "metadata": {},
   "source": [
    "## np.eye: identity matrix\n"
   ]
  },
  {
   "cell_type": "code",
   "execution_count": 21,
   "id": "6012e2a2-c40f-4d48-ad5a-9ac8f3f7ecf4",
   "metadata": {},
   "outputs": [
    {
     "data": {
      "text/plain": [
       "array([[1., 0., 0.],\n",
       "       [0., 1., 0.],\n",
       "       [0., 0., 1.]])"
      ]
     },
     "execution_count": 21,
     "metadata": {},
     "output_type": "execute_result"
    }
   ],
   "source": [
    "np.eye(3)"
   ]
  },
  {
   "cell_type": "code",
   "execution_count": 22,
   "id": "c5324802-4d31-49da-bfba-95885deb0580",
   "metadata": {},
   "outputs": [
    {
     "data": {
      "text/plain": [
       "array([[1., 0., 0., 0.],\n",
       "       [0., 1., 0., 0.],\n",
       "       [0., 0., 1., 0.]])"
      ]
     },
     "execution_count": 22,
     "metadata": {},
     "output_type": "execute_result"
    }
   ],
   "source": [
    "np.eye(3,4)"
   ]
  },
  {
   "cell_type": "code",
   "execution_count": 24,
   "id": "a745f39a-e2ef-4627-8946-2116b53fb4fc",
   "metadata": {},
   "outputs": [
    {
     "data": {
      "text/plain": [
       "array([[0., 0., 1., 0.],\n",
       "       [0., 0., 0., 1.],\n",
       "       [0., 0., 0., 0.]])"
      ]
     },
     "execution_count": 24,
     "metadata": {},
     "output_type": "execute_result"
    }
   ],
   "source": [
    "np.eye(3,4,2)"
   ]
  },
  {
   "cell_type": "markdown",
   "id": "bfb15cb2-9705-48da-8e73-a789ee621b19",
   "metadata": {},
   "source": [
    "## np.diag\n"
   ]
  },
  {
   "cell_type": "code",
   "execution_count": 28,
   "id": "8b354281-d4d4-44b0-ba53-cf630509b7d3",
   "metadata": {},
   "outputs": [
    {
     "data": {
      "text/plain": [
       "array([[1, 0, 0],\n",
       "       [0, 2, 0],\n",
       "       [0, 0, 3]])"
      ]
     },
     "execution_count": 28,
     "metadata": {},
     "output_type": "execute_result"
    }
   ],
   "source": [
    "np.diag([1,2,3])"
   ]
  },
  {
   "cell_type": "code",
   "execution_count": 30,
   "id": "d5aaf410-bd98-437c-833b-0fd9a05d0f49",
   "metadata": {},
   "outputs": [
    {
     "data": {
      "text/plain": [
       "array([[0, 0, 1, 0, 0],\n",
       "       [0, 0, 0, 2, 0],\n",
       "       [0, 0, 0, 0, 3],\n",
       "       [0, 0, 0, 0, 0],\n",
       "       [0, 0, 0, 0, 0]])"
      ]
     },
     "execution_count": 30,
     "metadata": {},
     "output_type": "execute_result"
    }
   ],
   "source": [
    "np.diag([1,2,3],2)"
   ]
  },
  {
   "cell_type": "code",
   "execution_count": 32,
   "id": "69121dd1-ba79-434f-ba57-64fa35267bea",
   "metadata": {},
   "outputs": [
    {
     "data": {
      "text/plain": [
       "array([ 1,  5, 11])"
      ]
     },
     "execution_count": 32,
     "metadata": {},
     "output_type": "execute_result"
    }
   ],
   "source": [
    "x = np.array([[1,2,3],[14,5,6],[9,10,11]])\n",
    "np.diag(x)"
   ]
  },
  {
   "cell_type": "markdown",
   "id": "2d9be357-6bc4-4c96-ba58-c4be501392fb",
   "metadata": {},
   "source": [
    "## np.vander"
   ]
  },
  {
   "cell_type": "code",
   "execution_count": 33,
   "id": "34091aa2-ae9f-4689-b675-837bb9b8a32c",
   "metadata": {},
   "outputs": [
    {
     "name": "stdout",
     "output_type": "stream",
     "text": [
      "[[ 1  1  1  1]\n",
      " [ 8  4  2  1]\n",
      " [27  9  3  1]\n",
      " [64 16  4  1]]\n"
     ]
    }
   ],
   "source": [
    "y=np.vander([1,2,3,4])\n",
    "print(y)"
   ]
  },
  {
   "cell_type": "code",
   "execution_count": 37,
   "id": "3f645256-b528-4010-85fc-a66209d24d9a",
   "metadata": {},
   "outputs": [
    {
     "name": "stdout",
     "output_type": "stream",
     "text": [
      "[[1 1]\n",
      " [2 1]\n",
      " [3 1]\n",
      " [4 1]]\n",
      "3\n"
     ]
    }
   ],
   "source": [
    "y=np.vander([1,2,3,4],2)\n",
    "print(y)\n",
    "print(y[2][0])"
   ]
  },
  {
   "cell_type": "code",
   "execution_count": 48,
   "id": "791aab88-6685-47df-82a6-34914150bd7c",
   "metadata": {},
   "outputs": [
    {
     "data": {
      "text/plain": [
       "array([[4.  , 2.  , 1.  ],\n",
       "       [6.25, 2.5 , 1.  ],\n",
       "       [9.  , 3.  , 1.  ]])"
      ]
     },
     "execution_count": 48,
     "metadata": {},
     "output_type": "execute_result"
    }
   ],
   "source": [
    "np.vander(np.linspace(2, 3, num=3))"
   ]
  },
  {
   "cell_type": "code",
   "execution_count": null,
   "id": "ff58c8e6-a3f3-477c-afef-ca24c020f177",
   "metadata": {},
   "outputs": [],
   "source": []
  }
 ],
 "metadata": {
  "kernelspec": {
   "display_name": "Python 3 (ipykernel)",
   "language": "python",
   "name": "python3"
  },
  "language_info": {
   "codemirror_mode": {
    "name": "ipython",
    "version": 3
   },
   "file_extension": ".py",
   "mimetype": "text/x-python",
   "name": "python",
   "nbconvert_exporter": "python",
   "pygments_lexer": "ipython3",
   "version": "3.11.7"
  }
 },
 "nbformat": 4,
 "nbformat_minor": 5
}
