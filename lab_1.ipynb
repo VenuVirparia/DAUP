{
 "cells": [
  {
   "cell_type": "code",
   "execution_count": 1,
   "id": "a4143f6e-917b-43e0-8659-ef054ed7cfbd",
   "metadata": {},
   "outputs": [
    {
     "name": "stdout",
     "output_type": "stream",
     "text": [
      "hello\n"
     ]
    }
   ],
   "source": [
    "print(\"hello\")"
   ]
  },
  {
   "cell_type": "code",
   "execution_count": 36,
   "id": "274f2884-d63e-4fcc-bcb9-6137d13aa828",
   "metadata": {},
   "outputs": [
    {
     "name": "stdout",
     "output_type": "stream",
     "text": [
      "+\n",
      "23.2\n",
      "-\n",
      "18.2\n",
      "*\n",
      "51.75\n",
      "/\n",
      "8.28\n",
      "**\n",
      "1949.5117794129892\n",
      "//\n",
      "8.0\n"
     ]
    }
   ],
   "source": [
    "a=20.7\n",
    "b=2.5\n",
    "#a+b output\n",
    "print(\"+\") \n",
    "print(a+b)\n",
    "\n",
    "print(\"-\")\n",
    "print(a-b)\n",
    "\n",
    "print(\"*\")\n",
    "print(a*b)\n",
    "\n",
    "print(\"/\")\n",
    "print(a/b)\n",
    "\n",
    "print(\"**\")\n",
    "print(a**b)\n",
    "\n",
    "print(\"//\")\n",
    "print(a//b)\n"
   ]
  },
  {
   "cell_type": "code",
   "execution_count": 34,
   "id": "cc460335-08fe-45ca-a7c1-3df6a09cae48",
   "metadata": {},
   "outputs": [
    {
     "name": "stdout",
     "output_type": "stream",
     "text": [
      "HazelHazel\n",
      "HazelHazelHazel\n"
     ]
    }
   ],
   "source": [
    "a=\"Hazel\"\n",
    "print(a+a)\n",
    "print(a*3)\n",
    "#a-a error unsupported operand type(s) for -: 'str' and 'str'\n",
    "\n",
    "#a*a error\n"
   ]
  },
  {
   "cell_type": "code",
   "execution_count": 12,
   "id": "f340e00d-9eac-47f6-a48d-c40f82216aa8",
   "metadata": {},
   "outputs": [
    {
     "name": "stdout",
     "output_type": "stream",
     "text": [
      "Leo Valdez\n"
     ]
    }
   ],
   "source": [
    "name=\"Leo\"\n",
    "surname=\"Valdez\"\n",
    "print(name+\" \"+surname)"
   ]
  },
  {
   "cell_type": "code",
   "execution_count": 41,
   "id": "0084aa13-4749-461d-a3da-643bbaa7f01a",
   "metadata": {},
   "outputs": [
    {
     "name": "stdout",
     "output_type": "stream",
     "text": [
      "n1 = 7\n",
      "n1 = 9\n",
      "n1>n2 False\n",
      "n1<n2 True\n",
      "n1>=n2 False\n",
      "n1<=n2 True\n",
      "n1==n2 False\n"
     ]
    }
   ],
   "source": [
    "n1=7\n",
    "n2=9\n",
    "\n",
    "print(f\"n1 = {n1}\")\n",
    "print(f\"n1 = {n2}\")\n",
    "print(f\"n1>n2 {n1>n2}\")\n",
    "print(f\"n1<n2 {n1<n2}\")\n",
    "print(f\"n1>=n2 {n1>=n2}\")\n",
    "print(f\"n1<=n2 {n1<=n2}\")\n",
    "print(f\"n1==n2 {n1==n2}\")"
   ]
  },
  {
   "cell_type": "code",
   "execution_count": 44,
   "id": "1324b298-ffd1-40d1-96c7-75dc6872f37c",
   "metadata": {},
   "outputs": [
    {
     "name": "stdout",
     "output_type": "stream",
     "text": [
      "n1:7 <= n2:9\n"
     ]
    }
   ],
   "source": [
    "if(n1>n2):\n",
    "    print(f\"n1:{n1} > n2:{n2}\")\n",
    "else:\n",
    "    print(f\"n1:{n1} <= n2:{n2}\")"
   ]
  },
  {
   "cell_type": "code",
   "execution_count": 83,
   "id": "bcbce27e-0156-4d95-af0a-a3278527b66c",
   "metadata": {},
   "outputs": [
    {
     "name": "stdout",
     "output_type": "stream",
     "text": [
      "[1, 2, 3, 4, 5, 6, 7, 8]\n",
      "1\n",
      "5\n",
      "[2, 4, 6, 8]\n"
     ]
    }
   ],
   "source": [
    "list1 = [1,2,3,4,5,6,7,8]\n",
    "print(list1)\n",
    "print(list1[0])\n",
    "print(list1[2]+2)\n",
    "print(list1[1::2])\n"
   ]
  },
  {
   "cell_type": "code",
   "execution_count": 95,
   "id": "850a2f20-84cb-4ecf-b3e8-7894486017c3",
   "metadata": {},
   "outputs": [
    {
     "name": "stdout",
     "output_type": "stream",
     "text": [
      "[8, 7, 6, 5, 4, 3, 2, 1]\n",
      "[8, 7, 6, 5, 4, 3, 2, 1]\n",
      "[8]\n",
      "[8, 6, 4, 2]\n",
      "[1, 3, 5, 7]\n",
      "[8, 7, 6, 5, 4, 3, 2, 1]\n",
      "[8, 7, 6, 5, 4, 3, 2, 1]\n"
     ]
    }
   ],
   "source": [
    "print(list1[-1::-1])\n",
    "print(list1[::-1])\n",
    "print(list1[-1::2])\n",
    "print(list1[-1::-2])\n",
    "print(list1[-8::2])\n",
    "print(list1[-1:-9:-1])\n",
    "print(list1[8::-1])\n",
    "\n"
   ]
  },
  {
   "cell_type": "code",
   "execution_count": 99,
   "id": "dcb29d2c-42b8-4d08-9655-0df152a255dd",
   "metadata": {},
   "outputs": [
    {
     "data": {
      "text/plain": [
       "[1, 2, False, 'Piper']"
      ]
     },
     "execution_count": 99,
     "metadata": {},
     "output_type": "execute_result"
    }
   ],
   "source": [
    "list2 = [1,2,True, \"Piper\"]\n",
    "list2\n",
    "\n",
    "list2[2]=False\n",
    "list2"
   ]
  },
  {
   "cell_type": "code",
   "execution_count": 97,
   "id": "43122168-7319-41f8-986d-8aaed7bc7696",
   "metadata": {},
   "outputs": [
    {
     "name": "stdout",
     "output_type": "stream",
     "text": [
      "[1, 3, ['nested list'], ['nested 2', 2.2, True]]\n",
      "['nested 2', 2.2, True]\n",
      "True\n",
      "[3, ['nested list'], ['nested 2', 2.2, True]]\n",
      "[['nested list']]\n",
      "[2.2, True]\n"
     ]
    }
   ],
   "source": [
    "list3 = [1, 3, [\"nested list\"], [\"nested 2\", 2.2, True]]\n",
    "print(list3)\n",
    "print(list3[3])\n",
    "print(list3[3][2])\n",
    "print(list3[1:])\n",
    "print(list3[2:3])\n",
    "\n",
    "\n",
    "list3[1]=6\n",
    "list3\n",
    "\n",
    "print(list3[3][1:])"
   ]
  },
  {
   "cell_type": "code",
   "execution_count": 101,
   "id": "b222bfd5-73c9-480d-880c-21180f39b6b8",
   "metadata": {},
   "outputs": [
    {
     "name": "stdout",
     "output_type": "stream",
     "text": [
      "(1, 3, 5)\n"
     ]
    },
    {
     "data": {
      "text/plain": [
       "1"
      ]
     },
     "execution_count": 101,
     "metadata": {},
     "output_type": "execute_result"
    }
   ],
   "source": [
    "tuple1=(1,3,5)\n",
    "print(tuple1)\n",
    "#tuple1[1]=2 #error 'tuple' object does not support item assignment\n",
    "tuple1[0]"
   ]
  },
  {
   "cell_type": "code",
   "execution_count": 102,
   "id": "ea2f7f8d-1e93-4fe5-b69e-2b9c0902b641",
   "metadata": {},
   "outputs": [
    {
     "data": {
      "text/plain": [
       "{'name': 'Leo', 'surname': 'Valdez'}"
      ]
     },
     "execution_count": 102,
     "metadata": {},
     "output_type": "execute_result"
    }
   ],
   "source": [
    "dict1 = {'name':'Leo', 'surname':'Valdez'}\n",
    "dict1\n"
   ]
  },
  {
   "cell_type": "code",
   "execution_count": 118,
   "id": "dd0950f0-8fb4-4d0e-9e02-4a537266df70",
   "metadata": {},
   "outputs": [
    {
     "name": "stdout",
     "output_type": "stream",
     "text": [
      "156\n",
      "venupatel@gmail.com\n",
      "venupatel@gmail.com\n",
      "{156: {'name': 'venu', 'mail': 'venupatel@gmail.com'}}\n"
     ]
    }
   ],
   "source": [
    "dict2 = {'id':156, 156:{'name':'venu', 'mail': 'venupatel@gmail.com'}}\n",
    "print(dict2['id'])\n",
    "print(dict2.get(156).get('mail'))\n",
    "print(dict2[156]['mail'])\n",
    "\n",
    "del(dict2['id'])\n",
    "print(dict2)\n"
   ]
  },
  {
   "cell_type": "code",
   "execution_count": 128,
   "id": "f0dd1197-4a89-4812-ba7f-45822850745b",
   "metadata": {},
   "outputs": [
    {
     "name": "stdout",
     "output_type": "stream",
     "text": [
      "less than 5\n",
      "x=2\n"
     ]
    }
   ],
   "source": [
    "x=2\n",
    "\n",
    "if x<5:\n",
    "    print(\"less than 5\")\n",
    "    print(f\"x={x}\")\n",
    "elif x>5:\n",
    "    print(\"gretaer than 5\")\n",
    "    print(f\"x={x}\")\n",
    "else:\n",
    "    print(\"equal to 5\")\n",
    "    print(f\"x={x}\")"
   ]
  },
  {
   "cell_type": "code",
   "execution_count": 18,
   "id": "f85c2cb3-6e3e-40c5-88f4-0013894420a0",
   "metadata": {},
   "outputs": [
    {
     "name": "stdin",
     "output_type": "stream",
     "text": [
      "Enter age:  -9\n"
     ]
    },
    {
     "name": "stdout",
     "output_type": "stream",
     "text": [
      "Invalid value (negative value not allowed)\n"
     ]
    }
   ],
   "source": [
    "n = int(input(\"Enter age: \"))\n",
    "if n>=18:\n",
    "    print(\"Person is eligible of voting\")\n",
    "elif n>12 and n<18:\n",
    "    print(\"Person is still teenager\")\n",
    "elif n<0:\n",
    "    print(\"Invalid value (negative value not allowed)\")\n",
    "else:\n",
    "    print(\"Person is child\")"
   ]
  },
  {
   "cell_type": "code",
   "execution_count": 41,
   "id": "5087973f-3fef-46ee-abc2-fc229f7e397e",
   "metadata": {},
   "outputs": [
    {
     "name": "stdin",
     "output_type": "stream",
     "text": [
      "Enter value 4\n",
      "enter n2 5\n"
     ]
    },
    {
     "name": "stdout",
     "output_type": "stream",
     "text": [
      "True\n",
      "False\n"
     ]
    },
    {
     "data": {
      "text/plain": [
       "bool"
      ]
     },
     "execution_count": 41,
     "metadata": {},
     "output_type": "execute_result"
    }
   ],
   "source": [
    "n1 = bool(input(\"Enter value\"))\n",
    "n2 = bool(input(\"enter n2\"))\n",
    "print(n1 and n2)\n",
    "print(True and False)\n",
    "type(n1)\n"
   ]
  },
  {
   "cell_type": "code",
   "execution_count": 3,
   "id": "3048b248-4c4b-472c-81eb-82cd0568af4d",
   "metadata": {},
   "outputs": [
    {
     "name": "stdout",
     "output_type": "stream",
     "text": [
      "0\n",
      "1\n",
      "2\n",
      "3\n",
      "4\n",
      "5\n"
     ]
    }
   ],
   "source": [
    "i=0\n",
    "while i<=5:\n",
    "    print(i)\n",
    "    i=i+1"
   ]
  },
  {
   "cell_type": "code",
   "execution_count": 49,
   "id": "5bdb7f10-245b-4d43-abf7-8ec88a5d2401",
   "metadata": {},
   "outputs": [
    {
     "name": "stdout",
     "output_type": "stream",
     "text": [
      "1\n",
      "3\n",
      "5\n",
      "7\n",
      "9\n"
     ]
    }
   ],
   "source": [
    "for i in range(1, 11, 2):\n",
    "    print(i)"
   ]
  },
  {
   "cell_type": "code",
   "execution_count": 48,
   "id": "9cc177b9-cf85-4a3f-b99c-e0e1f9c05f3f",
   "metadata": {},
   "outputs": [
    {
     "name": "stdout",
     "output_type": "stream",
     "text": [
      "0 eat\n",
      "1 sleep\n",
      "2 repeat\n"
     ]
    }
   ],
   "source": [
    "l1 = [\"eat\", \"sleep\", \"repeat\"]\n",
    "\n",
    "for count, ele in enumerate(l1):\n",
    "    print (count, ele)"
   ]
  },
  {
   "cell_type": "code",
   "execution_count": 51,
   "id": "494830d8-390b-47f4-82b7-8ac0ee6d3410",
   "metadata": {},
   "outputs": [
    {
     "name": "stdout",
     "output_type": "stream",
     "text": [
      "A\n",
      "B\n",
      "C\n",
      "END\n",
      "4\n"
     ]
    }
   ],
   "source": [
    "lst=[\"A\",\"B\",\"C\",\"D\"]\n",
    "for ele in lst:\n",
    "    print(ele)\n",
    "    if ele==\"C\":\n",
    "        break\n",
    "print(\"END\")\n",
    "print(len(lst))"
   ]
  },
  {
   "cell_type": "code",
   "execution_count": 50,
   "id": "2b4234d5-2907-4297-ab11-15f2714f04dc",
   "metadata": {},
   "outputs": [
    {
     "name": "stdout",
     "output_type": "stream",
     "text": [
      "Total sum: 15\n"
     ]
    }
   ],
   "source": [
    "numbers = [1, 2, 3, 4, 5]\n",
    "total = 0\n",
    "for num in numbers:\n",
    "    total += num\n",
    "print(f'Total sum: {total}')"
   ]
  },
  {
   "cell_type": "code",
   "execution_count": 55,
   "id": "56dbcbbf-af3c-4a19-b02e-8192230d7a9f",
   "metadata": {},
   "outputs": [
    {
     "name": "stdin",
     "output_type": "stream",
     "text": [
      "Enter number:  50\n"
     ]
    },
    {
     "name": "stdout",
     "output_type": "stream",
     "text": [
      "0\n",
      "1\n",
      "2\n",
      "3\n",
      "5\n",
      "8\n",
      "13\n",
      "21\n",
      "34\n",
      "55\n"
     ]
    }
   ],
   "source": [
    "def fibo(n):\n",
    "    a=0\n",
    "    b=1\n",
    "    print(a)\n",
    "    while b<n:\n",
    "        a, b = b, a+b\n",
    "        print(b)\n",
    "n = int(input(\"Enter number: \"))\n",
    "fibo(n)"
   ]
  },
  {
   "cell_type": "code",
   "execution_count": 56,
   "id": "5fe40e91-686b-469a-a64c-48de7497f22b",
   "metadata": {},
   "outputs": [
    {
     "name": "stdout",
     "output_type": "stream",
     "text": [
      "34\n"
     ]
    }
   ],
   "source": [
    "# Function for nth Fibonacci number\n",
    "def Fibonacci(n):\n",
    "    if n<= 0:\n",
    "        print(\"Incorrect input\")\n",
    "    # First Fibonacci number is 0\n",
    "    elif n == 1:\n",
    "        return 0\n",
    "    # Second Fibonacci number is 1\n",
    "    elif n == 2:\n",
    "        return 1\n",
    "    else:\n",
    "        return Fibonacci(n-1)+Fibonacci(n-2)\n",
    "\n",
    "# Driver Program\n",
    "\n",
    "print(Fibonacci(10))"
   ]
  },
  {
   "cell_type": "code",
   "execution_count": 58,
   "id": "64cc392e-d7fa-4b1a-ad95-1838bcdef0ec",
   "metadata": {},
   "outputs": [
    {
     "name": "stdout",
     "output_type": "stream",
     "text": [
      "[4, 5, 6, 7]\n"
     ]
    }
   ],
   "source": [
    "lst = [1,2,3,4]\n",
    "newL = [e+3 for e in lst]\n",
    "print(newL)\n",
    "\n",
    "# Numbers =[x for x in range(11)]\n"
   ]
  },
  {
   "cell_type": "code",
   "execution_count": null,
   "id": "63dc5542-13c5-4871-82b7-e45abb87c513",
   "metadata": {},
   "outputs": [],
   "source": []
  }
 ],
 "metadata": {
  "kernelspec": {
   "display_name": "Python 3 (ipykernel)",
   "language": "python",
   "name": "python3"
  },
  "language_info": {
   "codemirror_mode": {
    "name": "ipython",
    "version": 3
   },
   "file_extension": ".py",
   "mimetype": "text/x-python",
   "name": "python",
   "nbconvert_exporter": "python",
   "pygments_lexer": "ipython3",
   "version": "3.11.7"
  }
 },
 "nbformat": 4,
 "nbformat_minor": 5
}
