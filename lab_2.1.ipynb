{
 "cells": [
  {
   "cell_type": "code",
   "execution_count": 3,
   "id": "56e04edb-01a4-4af5-b9a4-2ede408d4f6a",
   "metadata": {},
   "outputs": [],
   "source": [
    "import pandas as pd\n",
    "import numpy as np"
   ]
  },
  {
   "cell_type": "code",
   "execution_count": 2,
   "id": "5079d284-ef39-43fe-a3a5-fe4e03ab8bd5",
   "metadata": {},
   "outputs": [
    {
     "data": {
      "text/html": [
       "<div>\n",
       "<style scoped>\n",
       "    .dataframe tbody tr th:only-of-type {\n",
       "        vertical-align: middle;\n",
       "    }\n",
       "\n",
       "    .dataframe tbody tr th {\n",
       "        vertical-align: top;\n",
       "    }\n",
       "\n",
       "    .dataframe thead th {\n",
       "        text-align: right;\n",
       "    }\n",
       "</style>\n",
       "<table border=\"1\" class=\"dataframe\">\n",
       "  <thead>\n",
       "    <tr style=\"text-align: right;\">\n",
       "      <th></th>\n",
       "      <th>A</th>\n",
       "    </tr>\n",
       "  </thead>\n",
       "  <tbody>\n",
       "    <tr>\n",
       "      <th>0</th>\n",
       "      <td>1</td>\n",
       "    </tr>\n",
       "    <tr>\n",
       "      <th>1</th>\n",
       "      <td>2</td>\n",
       "    </tr>\n",
       "    <tr>\n",
       "      <th>2</th>\n",
       "      <td>3</td>\n",
       "    </tr>\n",
       "  </tbody>\n",
       "</table>\n",
       "</div>"
      ],
      "text/plain": [
       "   A\n",
       "0  1\n",
       "1  2\n",
       "2  3"
      ]
     },
     "execution_count": 2,
     "metadata": {},
     "output_type": "execute_result"
    }
   ],
   "source": [
    "pd.DataFrame({'A': [1,2,3]})"
   ]
  },
  {
   "cell_type": "code",
   "execution_count": 5,
   "id": "20893b71-4754-44ad-b56d-05f7691fa7f5",
   "metadata": {},
   "outputs": [
    {
     "data": {
      "text/plain": [
       "0    1.0\n",
       "1    2.0\n",
       "2    3.0\n",
       "3    5.0\n",
       "4    NaN\n",
       "5    6.0\n",
       "6    8.0\n",
       "dtype: float64"
      ]
     },
     "execution_count": 5,
     "metadata": {},
     "output_type": "execute_result"
    }
   ],
   "source": [
    "s=pd.Series([1,2,3,5, np.nan, 6,8])\n",
    "s"
   ]
  },
  {
   "cell_type": "code",
   "execution_count": 7,
   "id": "0ad8eb34-1897-410c-b158-2d1b29b54501",
   "metadata": {},
   "outputs": [
    {
     "name": "stdout",
     "output_type": "stream",
     "text": [
      "0    1.0\n",
      "1    2.0\n",
      "2    3.0\n",
      "3    5.0\n",
      "4    NaN\n",
      "5    6.0\n",
      "6    8.0\n",
      "dtype: float64\n"
     ]
    }
   ],
   "source": [
    "print(s)"
   ]
  },
  {
   "cell_type": "code",
   "execution_count": 9,
   "id": "55152adf-42ac-4dd5-a6c4-cfc0f0fe807d",
   "metadata": {},
   "outputs": [
    {
     "data": {
      "text/plain": [
       "DatetimeIndex(['2024-11-01', '2024-11-02', '2024-11-03', '2024-11-04',\n",
       "               '2024-11-05', '2024-11-06'],\n",
       "              dtype='datetime64[ns]', freq='D')"
      ]
     },
     "execution_count": 9,
     "metadata": {},
     "output_type": "execute_result"
    }
   ],
   "source": [
    "dates = pd.date_range(\"20241101\", periods=6) #yyyymmdd\n",
    "dates"
   ]
  },
  {
   "cell_type": "code",
   "execution_count": 14,
   "id": "cdfcc578-ab98-4c69-9557-8921ebf7f47b",
   "metadata": {},
   "outputs": [
    {
     "data": {
      "text/html": [
       "<div>\n",
       "<style scoped>\n",
       "    .dataframe tbody tr th:only-of-type {\n",
       "        vertical-align: middle;\n",
       "    }\n",
       "\n",
       "    .dataframe tbody tr th {\n",
       "        vertical-align: top;\n",
       "    }\n",
       "\n",
       "    .dataframe thead th {\n",
       "        text-align: right;\n",
       "    }\n",
       "</style>\n",
       "<table border=\"1\" class=\"dataframe\">\n",
       "  <thead>\n",
       "    <tr style=\"text-align: right;\">\n",
       "      <th></th>\n",
       "      <th>A</th>\n",
       "      <th>B</th>\n",
       "      <th>C</th>\n",
       "      <th>D</th>\n",
       "    </tr>\n",
       "  </thead>\n",
       "  <tbody>\n",
       "    <tr>\n",
       "      <th>2024-11-01</th>\n",
       "      <td>-0.668393</td>\n",
       "      <td>-0.576897</td>\n",
       "      <td>0.671319</td>\n",
       "      <td>-0.725978</td>\n",
       "    </tr>\n",
       "    <tr>\n",
       "      <th>2024-11-02</th>\n",
       "      <td>0.257016</td>\n",
       "      <td>0.214027</td>\n",
       "      <td>-0.488754</td>\n",
       "      <td>0.893367</td>\n",
       "    </tr>\n",
       "    <tr>\n",
       "      <th>2024-11-03</th>\n",
       "      <td>-2.005810</td>\n",
       "      <td>-0.757105</td>\n",
       "      <td>-0.150606</td>\n",
       "      <td>0.689989</td>\n",
       "    </tr>\n",
       "    <tr>\n",
       "      <th>2024-11-04</th>\n",
       "      <td>-1.037308</td>\n",
       "      <td>1.030581</td>\n",
       "      <td>0.250836</td>\n",
       "      <td>0.810744</td>\n",
       "    </tr>\n",
       "    <tr>\n",
       "      <th>2024-11-05</th>\n",
       "      <td>-0.370698</td>\n",
       "      <td>-0.104254</td>\n",
       "      <td>-0.812296</td>\n",
       "      <td>0.866765</td>\n",
       "    </tr>\n",
       "    <tr>\n",
       "      <th>2024-11-06</th>\n",
       "      <td>-1.104879</td>\n",
       "      <td>1.392624</td>\n",
       "      <td>1.214158</td>\n",
       "      <td>1.865242</td>\n",
       "    </tr>\n",
       "  </tbody>\n",
       "</table>\n",
       "</div>"
      ],
      "text/plain": [
       "                   A         B         C         D\n",
       "2024-11-01 -0.668393 -0.576897  0.671319 -0.725978\n",
       "2024-11-02  0.257016  0.214027 -0.488754  0.893367\n",
       "2024-11-03 -2.005810 -0.757105 -0.150606  0.689989\n",
       "2024-11-04 -1.037308  1.030581  0.250836  0.810744\n",
       "2024-11-05 -0.370698 -0.104254 -0.812296  0.866765\n",
       "2024-11-06 -1.104879  1.392624  1.214158  1.865242"
      ]
     },
     "execution_count": 14,
     "metadata": {},
     "output_type": "execute_result"
    }
   ],
   "source": [
    "df=pd.DataFrame(np.random.randn(6,4), index=dates, columns=list(\"ABCD\"))\n",
    "df"
   ]
  },
  {
   "cell_type": "code",
   "execution_count": 21,
   "id": "59a00100-df12-46ac-9243-75cea09636a3",
   "metadata": {},
   "outputs": [
    {
     "data": {
      "text/html": [
       "<div>\n",
       "<style scoped>\n",
       "    .dataframe tbody tr th:only-of-type {\n",
       "        vertical-align: middle;\n",
       "    }\n",
       "\n",
       "    .dataframe tbody tr th {\n",
       "        vertical-align: top;\n",
       "    }\n",
       "\n",
       "    .dataframe thead th {\n",
       "        text-align: right;\n",
       "    }\n",
       "</style>\n",
       "<table border=\"1\" class=\"dataframe\">\n",
       "  <thead>\n",
       "    <tr style=\"text-align: right;\">\n",
       "      <th></th>\n",
       "      <th>A</th>\n",
       "      <th>B</th>\n",
       "      <th>C</th>\n",
       "      <th>D</th>\n",
       "    </tr>\n",
       "  </thead>\n",
       "  <tbody>\n",
       "    <tr>\n",
       "      <th>2024-11-01</th>\n",
       "      <td>2</td>\n",
       "      <td>6</td>\n",
       "      <td>6</td>\n",
       "      <td>12</td>\n",
       "    </tr>\n",
       "    <tr>\n",
       "      <th>2024-11-02</th>\n",
       "      <td>9</td>\n",
       "      <td>5</td>\n",
       "      <td>5</td>\n",
       "      <td>2</td>\n",
       "    </tr>\n",
       "    <tr>\n",
       "      <th>2024-11-03</th>\n",
       "      <td>3</td>\n",
       "      <td>12</td>\n",
       "      <td>13</td>\n",
       "      <td>7</td>\n",
       "    </tr>\n",
       "    <tr>\n",
       "      <th>2024-11-04</th>\n",
       "      <td>2</td>\n",
       "      <td>3</td>\n",
       "      <td>11</td>\n",
       "      <td>13</td>\n",
       "    </tr>\n",
       "    <tr>\n",
       "      <th>2024-11-05</th>\n",
       "      <td>9</td>\n",
       "      <td>6</td>\n",
       "      <td>2</td>\n",
       "      <td>8</td>\n",
       "    </tr>\n",
       "    <tr>\n",
       "      <th>2024-11-06</th>\n",
       "      <td>10</td>\n",
       "      <td>11</td>\n",
       "      <td>7</td>\n",
       "      <td>5</td>\n",
       "    </tr>\n",
       "  </tbody>\n",
       "</table>\n",
       "</div>"
      ],
      "text/plain": [
       "             A   B   C   D\n",
       "2024-11-01   2   6   6  12\n",
       "2024-11-02   9   5   5   2\n",
       "2024-11-03   3  12  13   7\n",
       "2024-11-04   2   3  11  13\n",
       "2024-11-05   9   6   2   8\n",
       "2024-11-06  10  11   7   5"
      ]
     },
     "execution_count": 21,
     "metadata": {},
     "output_type": "execute_result"
    }
   ],
   "source": [
    "dff2=pd.DataFrame(np.random.randint(15,size=(6,4)), index=dates, columns=list(\"ABCD\"))\n",
    "dff2\n"
   ]
  },
  {
   "cell_type": "code",
   "execution_count": 27,
   "id": "ea50db92-4f2c-4b1a-a4dc-c835b7119e1e",
   "metadata": {},
   "outputs": [
    {
     "data": {
      "text/html": [
       "<div>\n",
       "<style scoped>\n",
       "    .dataframe tbody tr th:only-of-type {\n",
       "        vertical-align: middle;\n",
       "    }\n",
       "\n",
       "    .dataframe tbody tr th {\n",
       "        vertical-align: top;\n",
       "    }\n",
       "\n",
       "    .dataframe thead th {\n",
       "        text-align: right;\n",
       "    }\n",
       "</style>\n",
       "<table border=\"1\" class=\"dataframe\">\n",
       "  <thead>\n",
       "    <tr style=\"text-align: right;\">\n",
       "      <th></th>\n",
       "      <th>A</th>\n",
       "      <th>B</th>\n",
       "      <th>C</th>\n",
       "      <th>D</th>\n",
       "      <th>E</th>\n",
       "      <th>F</th>\n",
       "    </tr>\n",
       "  </thead>\n",
       "  <tbody>\n",
       "    <tr>\n",
       "      <th>0</th>\n",
       "      <td>1.0</td>\n",
       "      <td>2004-01-04</td>\n",
       "      <td>1.0</td>\n",
       "      <td>3</td>\n",
       "      <td>test</td>\n",
       "      <td>foo</td>\n",
       "    </tr>\n",
       "    <tr>\n",
       "      <th>1</th>\n",
       "      <td>1.0</td>\n",
       "      <td>2004-01-04</td>\n",
       "      <td>1.0</td>\n",
       "      <td>4</td>\n",
       "      <td>trains</td>\n",
       "      <td>foo</td>\n",
       "    </tr>\n",
       "    <tr>\n",
       "      <th>2</th>\n",
       "      <td>1.0</td>\n",
       "      <td>2004-01-04</td>\n",
       "      <td>1.0</td>\n",
       "      <td>5</td>\n",
       "      <td>validate</td>\n",
       "      <td>foo</td>\n",
       "    </tr>\n",
       "    <tr>\n",
       "      <th>3</th>\n",
       "      <td>1.0</td>\n",
       "      <td>2004-01-04</td>\n",
       "      <td>1.0</td>\n",
       "      <td>6</td>\n",
       "      <td>try</td>\n",
       "      <td>foo</td>\n",
       "    </tr>\n",
       "  </tbody>\n",
       "</table>\n",
       "</div>"
      ],
      "text/plain": [
       "     A          B    C  D         E    F\n",
       "0  1.0 2004-01-04  1.0  3      test  foo\n",
       "1  1.0 2004-01-04  1.0  4    trains  foo\n",
       "2  1.0 2004-01-04  1.0  5  validate  foo\n",
       "3  1.0 2004-01-04  1.0  6       try  foo"
      ]
     },
     "execution_count": 27,
     "metadata": {},
     "output_type": "execute_result"
    }
   ],
   "source": [
    "df2=pd.DataFrame(\n",
    "    {\n",
    "    \"A\": 1.0,\n",
    "    \"B\": pd.Timestamp(\"20040104\"),\n",
    "    #\"C\": pd.Series(1,index=list(range(4))),\n",
    "    \"C\": pd.Series(1,index=list(range(4)),dtype=\"float32\"),\n",
    "    #\"D\": np.array([3]*4,dtype=\"int32\"),\n",
    "    \"D\": np.array([3,4,5,6]),\n",
    "    \"E\": pd.Categorical([\"test\",\"trains\",\"validate\",\"try\"]),\n",
    "    \"F\": \"foo\",}\n",
    ")\n",
    "df2"
   ]
  },
  {
   "cell_type": "code",
   "execution_count": 29,
   "id": "61e4d574-bfc9-4f13-bd1c-3edb373f7100",
   "metadata": {},
   "outputs": [
    {
     "data": {
      "text/plain": [
       "pandas.core.frame.DataFrame"
      ]
     },
     "execution_count": 29,
     "metadata": {},
     "output_type": "execute_result"
    }
   ],
   "source": [
    "type(df2)"
   ]
  },
  {
   "cell_type": "code",
   "execution_count": 30,
   "id": "7789e061-9c8a-45de-b698-3be0a153d9dc",
   "metadata": {},
   "outputs": [
    {
     "data": {
      "text/plain": [
       "A          float64\n",
       "B    datetime64[s]\n",
       "C          float32\n",
       "D            int32\n",
       "E         category\n",
       "F           object\n",
       "dtype: object"
      ]
     },
     "execution_count": 30,
     "metadata": {},
     "output_type": "execute_result"
    }
   ],
   "source": [
    "df2.dtypes"
   ]
  },
  {
   "cell_type": "code",
   "execution_count": 33,
   "id": "d1e218b4-ee3b-4f19-8563-d641ad884adb",
   "metadata": {},
   "outputs": [
    {
     "data": {
      "text/html": [
       "<div>\n",
       "<style scoped>\n",
       "    .dataframe tbody tr th:only-of-type {\n",
       "        vertical-align: middle;\n",
       "    }\n",
       "\n",
       "    .dataframe tbody tr th {\n",
       "        vertical-align: top;\n",
       "    }\n",
       "\n",
       "    .dataframe thead th {\n",
       "        text-align: right;\n",
       "    }\n",
       "</style>\n",
       "<table border=\"1\" class=\"dataframe\">\n",
       "  <thead>\n",
       "    <tr style=\"text-align: right;\">\n",
       "      <th></th>\n",
       "      <th>A</th>\n",
       "      <th>B</th>\n",
       "      <th>C</th>\n",
       "      <th>D</th>\n",
       "    </tr>\n",
       "  </thead>\n",
       "  <tbody>\n",
       "    <tr>\n",
       "      <th>2024-11-01</th>\n",
       "      <td>-0.668393</td>\n",
       "      <td>-0.576897</td>\n",
       "      <td>0.671319</td>\n",
       "      <td>-0.725978</td>\n",
       "    </tr>\n",
       "    <tr>\n",
       "      <th>2024-11-02</th>\n",
       "      <td>0.257016</td>\n",
       "      <td>0.214027</td>\n",
       "      <td>-0.488754</td>\n",
       "      <td>0.893367</td>\n",
       "    </tr>\n",
       "    <tr>\n",
       "      <th>2024-11-03</th>\n",
       "      <td>-2.005810</td>\n",
       "      <td>-0.757105</td>\n",
       "      <td>-0.150606</td>\n",
       "      <td>0.689989</td>\n",
       "    </tr>\n",
       "  </tbody>\n",
       "</table>\n",
       "</div>"
      ],
      "text/plain": [
       "                   A         B         C         D\n",
       "2024-11-01 -0.668393 -0.576897  0.671319 -0.725978\n",
       "2024-11-02  0.257016  0.214027 -0.488754  0.893367\n",
       "2024-11-03 -2.005810 -0.757105 -0.150606  0.689989"
      ]
     },
     "execution_count": 33,
     "metadata": {},
     "output_type": "execute_result"
    }
   ],
   "source": [
    "df.head(3)"
   ]
  },
  {
   "cell_type": "code",
   "execution_count": 34,
   "id": "56fd7f77-1f71-4c5d-b4e5-c2c4672d3cf4",
   "metadata": {},
   "outputs": [
    {
     "data": {
      "text/html": [
       "<div>\n",
       "<style scoped>\n",
       "    .dataframe tbody tr th:only-of-type {\n",
       "        vertical-align: middle;\n",
       "    }\n",
       "\n",
       "    .dataframe tbody tr th {\n",
       "        vertical-align: top;\n",
       "    }\n",
       "\n",
       "    .dataframe thead th {\n",
       "        text-align: right;\n",
       "    }\n",
       "</style>\n",
       "<table border=\"1\" class=\"dataframe\">\n",
       "  <thead>\n",
       "    <tr style=\"text-align: right;\">\n",
       "      <th></th>\n",
       "      <th>A</th>\n",
       "      <th>B</th>\n",
       "      <th>C</th>\n",
       "      <th>D</th>\n",
       "    </tr>\n",
       "  </thead>\n",
       "  <tbody>\n",
       "    <tr>\n",
       "      <th>2024-11-05</th>\n",
       "      <td>-0.370698</td>\n",
       "      <td>-0.104254</td>\n",
       "      <td>-0.812296</td>\n",
       "      <td>0.866765</td>\n",
       "    </tr>\n",
       "    <tr>\n",
       "      <th>2024-11-06</th>\n",
       "      <td>-1.104879</td>\n",
       "      <td>1.392624</td>\n",
       "      <td>1.214158</td>\n",
       "      <td>1.865242</td>\n",
       "    </tr>\n",
       "  </tbody>\n",
       "</table>\n",
       "</div>"
      ],
      "text/plain": [
       "                   A         B         C         D\n",
       "2024-11-05 -0.370698 -0.104254 -0.812296  0.866765\n",
       "2024-11-06 -1.104879  1.392624  1.214158  1.865242"
      ]
     },
     "execution_count": 34,
     "metadata": {},
     "output_type": "execute_result"
    }
   ],
   "source": [
    "df.tail(2)"
   ]
  },
  {
   "cell_type": "code",
   "execution_count": 38,
   "id": "ad658698-36c8-4ddd-b665-3e511a73a6cb",
   "metadata": {},
   "outputs": [
    {
     "data": {
      "text/plain": [
       "DatetimeIndex(['2024-11-01', '2024-11-02', '2024-11-03', '2024-11-04',\n",
       "               '2024-11-05', '2024-11-06'],\n",
       "              dtype='datetime64[ns]', freq='D')"
      ]
     },
     "execution_count": 38,
     "metadata": {},
     "output_type": "execute_result"
    }
   ],
   "source": [
    "df.index"
   ]
  },
  {
   "cell_type": "code",
   "execution_count": 39,
   "id": "71d260ad-4415-4e93-b6e2-f6fac7b80d7a",
   "metadata": {},
   "outputs": [
    {
     "data": {
      "text/plain": [
       "Index(['A', 'B', 'C', 'D'], dtype='object')"
      ]
     },
     "execution_count": 39,
     "metadata": {},
     "output_type": "execute_result"
    }
   ],
   "source": [
    "df.columns"
   ]
  },
  {
   "cell_type": "code",
   "execution_count": 45,
   "id": "fb92a7b0-d5c5-4280-99c8-11c601b5ec79",
   "metadata": {},
   "outputs": [
    {
     "data": {
      "text/plain": [
       "array([[-0.66839294, -0.57689661,  0.67131926, -0.72597822],\n",
       "       [ 0.2570162 ,  0.21402666, -0.4887539 ,  0.89336656],\n",
       "       [-2.00580989, -0.75710451, -0.15060577,  0.68998855],\n",
       "       [-1.03730844,  1.03058054,  0.25083619,  0.81074431],\n",
       "       [-0.3706981 , -0.10425363, -0.81229593,  0.8667653 ],\n",
       "       [-1.10487925,  1.39262374,  1.21415807,  1.86524161]])"
      ]
     },
     "execution_count": 45,
     "metadata": {},
     "output_type": "execute_result"
    }
   ],
   "source": [
    "n=df.to_numpy()\n",
    "n"
   ]
  },
  {
   "cell_type": "code",
   "execution_count": 46,
   "id": "5acaad1e-0961-4321-a31d-0f3c700ce3d7",
   "metadata": {},
   "outputs": [
    {
     "data": {
      "text/plain": [
       "numpy.ndarray"
      ]
     },
     "execution_count": 46,
     "metadata": {},
     "output_type": "execute_result"
    }
   ],
   "source": [
    "type(n)"
   ]
  },
  {
   "cell_type": "code",
   "execution_count": 47,
   "id": "e6f3a9a3-a3d4-45ec-aedc-fda430416c51",
   "metadata": {},
   "outputs": [
    {
     "data": {
      "text/plain": [
       "array([[1.0, Timestamp('2004-01-04 00:00:00'), 1.0, 3, 'test', 'foo'],\n",
       "       [1.0, Timestamp('2004-01-04 00:00:00'), 1.0, 4, 'trains', 'foo'],\n",
       "       [1.0, Timestamp('2004-01-04 00:00:00'), 1.0, 5, 'validate', 'foo'],\n",
       "       [1.0, Timestamp('2004-01-04 00:00:00'), 1.0, 6, 'try', 'foo']],\n",
       "      dtype=object)"
      ]
     },
     "execution_count": 47,
     "metadata": {},
     "output_type": "execute_result"
    }
   ],
   "source": [
    "m=df2.to_numpy()\n",
    "m"
   ]
  },
  {
   "cell_type": "code",
   "execution_count": 48,
   "id": "6ac9d7a6-5c1b-4c0f-9b48-1890b696045d",
   "metadata": {},
   "outputs": [
    {
     "data": {
      "text/plain": [
       "numpy.ndarray"
      ]
     },
     "execution_count": 48,
     "metadata": {},
     "output_type": "execute_result"
    }
   ],
   "source": [
    "type(m)"
   ]
  },
  {
   "cell_type": "code",
   "execution_count": 49,
   "id": "24a522ae-6293-4bd8-b872-524002d65e47",
   "metadata": {},
   "outputs": [
    {
     "data": {
      "text/html": [
       "<div>\n",
       "<style scoped>\n",
       "    .dataframe tbody tr th:only-of-type {\n",
       "        vertical-align: middle;\n",
       "    }\n",
       "\n",
       "    .dataframe tbody tr th {\n",
       "        vertical-align: top;\n",
       "    }\n",
       "\n",
       "    .dataframe thead th {\n",
       "        text-align: right;\n",
       "    }\n",
       "</style>\n",
       "<table border=\"1\" class=\"dataframe\">\n",
       "  <thead>\n",
       "    <tr style=\"text-align: right;\">\n",
       "      <th></th>\n",
       "      <th>A</th>\n",
       "      <th>B</th>\n",
       "      <th>C</th>\n",
       "      <th>D</th>\n",
       "    </tr>\n",
       "  </thead>\n",
       "  <tbody>\n",
       "    <tr>\n",
       "      <th>count</th>\n",
       "      <td>6.000000</td>\n",
       "      <td>6.000000</td>\n",
       "      <td>6.000000</td>\n",
       "      <td>6.000000</td>\n",
       "    </tr>\n",
       "    <tr>\n",
       "      <th>mean</th>\n",
       "      <td>-0.821679</td>\n",
       "      <td>0.199829</td>\n",
       "      <td>0.114110</td>\n",
       "      <td>0.733355</td>\n",
       "    </tr>\n",
       "    <tr>\n",
       "      <th>std</th>\n",
       "      <td>0.764111</td>\n",
       "      <td>0.863087</td>\n",
       "      <td>0.752467</td>\n",
       "      <td>0.832117</td>\n",
       "    </tr>\n",
       "    <tr>\n",
       "      <th>min</th>\n",
       "      <td>-2.005810</td>\n",
       "      <td>-0.757105</td>\n",
       "      <td>-0.812296</td>\n",
       "      <td>-0.725978</td>\n",
       "    </tr>\n",
       "    <tr>\n",
       "      <th>25%</th>\n",
       "      <td>-1.087987</td>\n",
       "      <td>-0.458736</td>\n",
       "      <td>-0.404217</td>\n",
       "      <td>0.720177</td>\n",
       "    </tr>\n",
       "    <tr>\n",
       "      <th>50%</th>\n",
       "      <td>-0.852851</td>\n",
       "      <td>0.054887</td>\n",
       "      <td>0.050115</td>\n",
       "      <td>0.838755</td>\n",
       "    </tr>\n",
       "    <tr>\n",
       "      <th>75%</th>\n",
       "      <td>-0.445122</td>\n",
       "      <td>0.826442</td>\n",
       "      <td>0.566198</td>\n",
       "      <td>0.886716</td>\n",
       "    </tr>\n",
       "    <tr>\n",
       "      <th>max</th>\n",
       "      <td>0.257016</td>\n",
       "      <td>1.392624</td>\n",
       "      <td>1.214158</td>\n",
       "      <td>1.865242</td>\n",
       "    </tr>\n",
       "  </tbody>\n",
       "</table>\n",
       "</div>"
      ],
      "text/plain": [
       "              A         B         C         D\n",
       "count  6.000000  6.000000  6.000000  6.000000\n",
       "mean  -0.821679  0.199829  0.114110  0.733355\n",
       "std    0.764111  0.863087  0.752467  0.832117\n",
       "min   -2.005810 -0.757105 -0.812296 -0.725978\n",
       "25%   -1.087987 -0.458736 -0.404217  0.720177\n",
       "50%   -0.852851  0.054887  0.050115  0.838755\n",
       "75%   -0.445122  0.826442  0.566198  0.886716\n",
       "max    0.257016  1.392624  1.214158  1.865242"
      ]
     },
     "execution_count": 49,
     "metadata": {},
     "output_type": "execute_result"
    }
   ],
   "source": [
    "df.describe()"
   ]
  },
  {
   "cell_type": "code",
   "execution_count": 50,
   "id": "5f589055-b301-48ab-9e51-589fcc86c1a2",
   "metadata": {},
   "outputs": [
    {
     "data": {
      "text/html": [
       "<div>\n",
       "<style scoped>\n",
       "    .dataframe tbody tr th:only-of-type {\n",
       "        vertical-align: middle;\n",
       "    }\n",
       "\n",
       "    .dataframe tbody tr th {\n",
       "        vertical-align: top;\n",
       "    }\n",
       "\n",
       "    .dataframe thead th {\n",
       "        text-align: right;\n",
       "    }\n",
       "</style>\n",
       "<table border=\"1\" class=\"dataframe\">\n",
       "  <thead>\n",
       "    <tr style=\"text-align: right;\">\n",
       "      <th></th>\n",
       "      <th>A</th>\n",
       "      <th>B</th>\n",
       "      <th>C</th>\n",
       "      <th>D</th>\n",
       "    </tr>\n",
       "  </thead>\n",
       "  <tbody>\n",
       "    <tr>\n",
       "      <th>count</th>\n",
       "      <td>4.0</td>\n",
       "      <td>4</td>\n",
       "      <td>4.0</td>\n",
       "      <td>4.000000</td>\n",
       "    </tr>\n",
       "    <tr>\n",
       "      <th>mean</th>\n",
       "      <td>1.0</td>\n",
       "      <td>2004-01-04 00:00:00</td>\n",
       "      <td>1.0</td>\n",
       "      <td>4.500000</td>\n",
       "    </tr>\n",
       "    <tr>\n",
       "      <th>min</th>\n",
       "      <td>1.0</td>\n",
       "      <td>2004-01-04 00:00:00</td>\n",
       "      <td>1.0</td>\n",
       "      <td>3.000000</td>\n",
       "    </tr>\n",
       "    <tr>\n",
       "      <th>25%</th>\n",
       "      <td>1.0</td>\n",
       "      <td>2004-01-04 00:00:00</td>\n",
       "      <td>1.0</td>\n",
       "      <td>3.750000</td>\n",
       "    </tr>\n",
       "    <tr>\n",
       "      <th>50%</th>\n",
       "      <td>1.0</td>\n",
       "      <td>2004-01-04 00:00:00</td>\n",
       "      <td>1.0</td>\n",
       "      <td>4.500000</td>\n",
       "    </tr>\n",
       "    <tr>\n",
       "      <th>75%</th>\n",
       "      <td>1.0</td>\n",
       "      <td>2004-01-04 00:00:00</td>\n",
       "      <td>1.0</td>\n",
       "      <td>5.250000</td>\n",
       "    </tr>\n",
       "    <tr>\n",
       "      <th>max</th>\n",
       "      <td>1.0</td>\n",
       "      <td>2004-01-04 00:00:00</td>\n",
       "      <td>1.0</td>\n",
       "      <td>6.000000</td>\n",
       "    </tr>\n",
       "    <tr>\n",
       "      <th>std</th>\n",
       "      <td>0.0</td>\n",
       "      <td>NaN</td>\n",
       "      <td>0.0</td>\n",
       "      <td>1.290994</td>\n",
       "    </tr>\n",
       "  </tbody>\n",
       "</table>\n",
       "</div>"
      ],
      "text/plain": [
       "         A                    B    C         D\n",
       "count  4.0                    4  4.0  4.000000\n",
       "mean   1.0  2004-01-04 00:00:00  1.0  4.500000\n",
       "min    1.0  2004-01-04 00:00:00  1.0  3.000000\n",
       "25%    1.0  2004-01-04 00:00:00  1.0  3.750000\n",
       "50%    1.0  2004-01-04 00:00:00  1.0  4.500000\n",
       "75%    1.0  2004-01-04 00:00:00  1.0  5.250000\n",
       "max    1.0  2004-01-04 00:00:00  1.0  6.000000\n",
       "std    0.0                  NaN  0.0  1.290994"
      ]
     },
     "execution_count": 50,
     "metadata": {},
     "output_type": "execute_result"
    }
   ],
   "source": [
    "df2.describe()"
   ]
  },
  {
   "cell_type": "code",
   "execution_count": 51,
   "id": "a4c0935d-8498-42a9-8630-42420293a3cc",
   "metadata": {},
   "outputs": [
    {
     "data": {
      "text/html": [
       "<div>\n",
       "<style scoped>\n",
       "    .dataframe tbody tr th:only-of-type {\n",
       "        vertical-align: middle;\n",
       "    }\n",
       "\n",
       "    .dataframe tbody tr th {\n",
       "        vertical-align: top;\n",
       "    }\n",
       "\n",
       "    .dataframe thead th {\n",
       "        text-align: right;\n",
       "    }\n",
       "</style>\n",
       "<table border=\"1\" class=\"dataframe\">\n",
       "  <thead>\n",
       "    <tr style=\"text-align: right;\">\n",
       "      <th></th>\n",
       "      <th>2024-11-01</th>\n",
       "      <th>2024-11-02</th>\n",
       "      <th>2024-11-03</th>\n",
       "      <th>2024-11-04</th>\n",
       "      <th>2024-11-05</th>\n",
       "      <th>2024-11-06</th>\n",
       "    </tr>\n",
       "  </thead>\n",
       "  <tbody>\n",
       "    <tr>\n",
       "      <th>A</th>\n",
       "      <td>-0.668393</td>\n",
       "      <td>0.257016</td>\n",
       "      <td>-2.005810</td>\n",
       "      <td>-1.037308</td>\n",
       "      <td>-0.370698</td>\n",
       "      <td>-1.104879</td>\n",
       "    </tr>\n",
       "    <tr>\n",
       "      <th>B</th>\n",
       "      <td>-0.576897</td>\n",
       "      <td>0.214027</td>\n",
       "      <td>-0.757105</td>\n",
       "      <td>1.030581</td>\n",
       "      <td>-0.104254</td>\n",
       "      <td>1.392624</td>\n",
       "    </tr>\n",
       "    <tr>\n",
       "      <th>C</th>\n",
       "      <td>0.671319</td>\n",
       "      <td>-0.488754</td>\n",
       "      <td>-0.150606</td>\n",
       "      <td>0.250836</td>\n",
       "      <td>-0.812296</td>\n",
       "      <td>1.214158</td>\n",
       "    </tr>\n",
       "    <tr>\n",
       "      <th>D</th>\n",
       "      <td>-0.725978</td>\n",
       "      <td>0.893367</td>\n",
       "      <td>0.689989</td>\n",
       "      <td>0.810744</td>\n",
       "      <td>0.866765</td>\n",
       "      <td>1.865242</td>\n",
       "    </tr>\n",
       "  </tbody>\n",
       "</table>\n",
       "</div>"
      ],
      "text/plain": [
       "   2024-11-01  2024-11-02  2024-11-03  2024-11-04  2024-11-05  2024-11-06\n",
       "A   -0.668393    0.257016   -2.005810   -1.037308   -0.370698   -1.104879\n",
       "B   -0.576897    0.214027   -0.757105    1.030581   -0.104254    1.392624\n",
       "C    0.671319   -0.488754   -0.150606    0.250836   -0.812296    1.214158\n",
       "D   -0.725978    0.893367    0.689989    0.810744    0.866765    1.865242"
      ]
     },
     "execution_count": 51,
     "metadata": {},
     "output_type": "execute_result"
    }
   ],
   "source": [
    "df.T"
   ]
  },
  {
   "cell_type": "code",
   "execution_count": 54,
   "id": "c7798dc0-fd4c-4b3d-a675-3901398072f5",
   "metadata": {},
   "outputs": [
    {
     "data": {
      "text/html": [
       "<div>\n",
       "<style scoped>\n",
       "    .dataframe tbody tr th:only-of-type {\n",
       "        vertical-align: middle;\n",
       "    }\n",
       "\n",
       "    .dataframe tbody tr th {\n",
       "        vertical-align: top;\n",
       "    }\n",
       "\n",
       "    .dataframe thead th {\n",
       "        text-align: right;\n",
       "    }\n",
       "</style>\n",
       "<table border=\"1\" class=\"dataframe\">\n",
       "  <thead>\n",
       "    <tr style=\"text-align: right;\">\n",
       "      <th></th>\n",
       "      <th>D</th>\n",
       "      <th>C</th>\n",
       "      <th>B</th>\n",
       "      <th>A</th>\n",
       "    </tr>\n",
       "  </thead>\n",
       "  <tbody>\n",
       "    <tr>\n",
       "      <th>2024-11-01</th>\n",
       "      <td>-0.725978</td>\n",
       "      <td>0.671319</td>\n",
       "      <td>-0.576897</td>\n",
       "      <td>-0.668393</td>\n",
       "    </tr>\n",
       "    <tr>\n",
       "      <th>2024-11-02</th>\n",
       "      <td>0.893367</td>\n",
       "      <td>-0.488754</td>\n",
       "      <td>0.214027</td>\n",
       "      <td>0.257016</td>\n",
       "    </tr>\n",
       "    <tr>\n",
       "      <th>2024-11-03</th>\n",
       "      <td>0.689989</td>\n",
       "      <td>-0.150606</td>\n",
       "      <td>-0.757105</td>\n",
       "      <td>-2.005810</td>\n",
       "    </tr>\n",
       "    <tr>\n",
       "      <th>2024-11-04</th>\n",
       "      <td>0.810744</td>\n",
       "      <td>0.250836</td>\n",
       "      <td>1.030581</td>\n",
       "      <td>-1.037308</td>\n",
       "    </tr>\n",
       "    <tr>\n",
       "      <th>2024-11-05</th>\n",
       "      <td>0.866765</td>\n",
       "      <td>-0.812296</td>\n",
       "      <td>-0.104254</td>\n",
       "      <td>-0.370698</td>\n",
       "    </tr>\n",
       "    <tr>\n",
       "      <th>2024-11-06</th>\n",
       "      <td>1.865242</td>\n",
       "      <td>1.214158</td>\n",
       "      <td>1.392624</td>\n",
       "      <td>-1.104879</td>\n",
       "    </tr>\n",
       "  </tbody>\n",
       "</table>\n",
       "</div>"
      ],
      "text/plain": [
       "                   D         C         B         A\n",
       "2024-11-01 -0.725978  0.671319 -0.576897 -0.668393\n",
       "2024-11-02  0.893367 -0.488754  0.214027  0.257016\n",
       "2024-11-03  0.689989 -0.150606 -0.757105 -2.005810\n",
       "2024-11-04  0.810744  0.250836  1.030581 -1.037308\n",
       "2024-11-05  0.866765 -0.812296 -0.104254 -0.370698\n",
       "2024-11-06  1.865242  1.214158  1.392624 -1.104879"
      ]
     },
     "execution_count": 54,
     "metadata": {},
     "output_type": "execute_result"
    }
   ],
   "source": [
    "df.sort_index(axis=1,ascending=False)"
   ]
  },
  {
   "cell_type": "code",
   "execution_count": 55,
   "id": "b9bac231-c8e5-44e1-bf55-b6fe27e87451",
   "metadata": {},
   "outputs": [
    {
     "data": {
      "text/html": [
       "<div>\n",
       "<style scoped>\n",
       "    .dataframe tbody tr th:only-of-type {\n",
       "        vertical-align: middle;\n",
       "    }\n",
       "\n",
       "    .dataframe tbody tr th {\n",
       "        vertical-align: top;\n",
       "    }\n",
       "\n",
       "    .dataframe thead th {\n",
       "        text-align: right;\n",
       "    }\n",
       "</style>\n",
       "<table border=\"1\" class=\"dataframe\">\n",
       "  <thead>\n",
       "    <tr style=\"text-align: right;\">\n",
       "      <th></th>\n",
       "      <th>A</th>\n",
       "      <th>B</th>\n",
       "      <th>C</th>\n",
       "      <th>D</th>\n",
       "    </tr>\n",
       "  </thead>\n",
       "  <tbody>\n",
       "    <tr>\n",
       "      <th>2024-11-06</th>\n",
       "      <td>-1.104879</td>\n",
       "      <td>1.392624</td>\n",
       "      <td>1.214158</td>\n",
       "      <td>1.865242</td>\n",
       "    </tr>\n",
       "    <tr>\n",
       "      <th>2024-11-05</th>\n",
       "      <td>-0.370698</td>\n",
       "      <td>-0.104254</td>\n",
       "      <td>-0.812296</td>\n",
       "      <td>0.866765</td>\n",
       "    </tr>\n",
       "    <tr>\n",
       "      <th>2024-11-04</th>\n",
       "      <td>-1.037308</td>\n",
       "      <td>1.030581</td>\n",
       "      <td>0.250836</td>\n",
       "      <td>0.810744</td>\n",
       "    </tr>\n",
       "    <tr>\n",
       "      <th>2024-11-03</th>\n",
       "      <td>-2.005810</td>\n",
       "      <td>-0.757105</td>\n",
       "      <td>-0.150606</td>\n",
       "      <td>0.689989</td>\n",
       "    </tr>\n",
       "    <tr>\n",
       "      <th>2024-11-02</th>\n",
       "      <td>0.257016</td>\n",
       "      <td>0.214027</td>\n",
       "      <td>-0.488754</td>\n",
       "      <td>0.893367</td>\n",
       "    </tr>\n",
       "    <tr>\n",
       "      <th>2024-11-01</th>\n",
       "      <td>-0.668393</td>\n",
       "      <td>-0.576897</td>\n",
       "      <td>0.671319</td>\n",
       "      <td>-0.725978</td>\n",
       "    </tr>\n",
       "  </tbody>\n",
       "</table>\n",
       "</div>"
      ],
      "text/plain": [
       "                   A         B         C         D\n",
       "2024-11-06 -1.104879  1.392624  1.214158  1.865242\n",
       "2024-11-05 -0.370698 -0.104254 -0.812296  0.866765\n",
       "2024-11-04 -1.037308  1.030581  0.250836  0.810744\n",
       "2024-11-03 -2.005810 -0.757105 -0.150606  0.689989\n",
       "2024-11-02  0.257016  0.214027 -0.488754  0.893367\n",
       "2024-11-01 -0.668393 -0.576897  0.671319 -0.725978"
      ]
     },
     "execution_count": 55,
     "metadata": {},
     "output_type": "execute_result"
    }
   ],
   "source": [
    "df.sort_index(axis=0,ascending=False)"
   ]
  },
  {
   "cell_type": "code",
   "execution_count": 56,
   "id": "c88765e6-7ec9-4b71-b4de-ca66e09da6cc",
   "metadata": {},
   "outputs": [
    {
     "data": {
      "text/plain": [
       "2024-11-01   -0.668393\n",
       "2024-11-02    0.257016\n",
       "2024-11-03   -2.005810\n",
       "2024-11-04   -1.037308\n",
       "2024-11-05   -0.370698\n",
       "2024-11-06   -1.104879\n",
       "Freq: D, Name: A, dtype: float64"
      ]
     },
     "execution_count": 56,
     "metadata": {},
     "output_type": "execute_result"
    }
   ],
   "source": [
    "df[\"A\"]"
   ]
  },
  {
   "cell_type": "code",
   "execution_count": 71,
   "id": "eb027143-c268-45a5-a449-ccb3f121a648",
   "metadata": {},
   "outputs": [
    {
     "data": {
      "text/html": [
       "<div>\n",
       "<style scoped>\n",
       "    .dataframe tbody tr th:only-of-type {\n",
       "        vertical-align: middle;\n",
       "    }\n",
       "\n",
       "    .dataframe tbody tr th {\n",
       "        vertical-align: top;\n",
       "    }\n",
       "\n",
       "    .dataframe thead th {\n",
       "        text-align: right;\n",
       "    }\n",
       "</style>\n",
       "<table border=\"1\" class=\"dataframe\">\n",
       "  <thead>\n",
       "    <tr style=\"text-align: right;\">\n",
       "      <th></th>\n",
       "      <th>A</th>\n",
       "      <th>B</th>\n",
       "      <th>C</th>\n",
       "      <th>D</th>\n",
       "    </tr>\n",
       "  </thead>\n",
       "  <tbody>\n",
       "    <tr>\n",
       "      <th>2024-11-01</th>\n",
       "      <td>-0.668393</td>\n",
       "      <td>-0.576897</td>\n",
       "      <td>0.671319</td>\n",
       "      <td>-0.725978</td>\n",
       "    </tr>\n",
       "    <tr>\n",
       "      <th>2024-11-02</th>\n",
       "      <td>0.257016</td>\n",
       "      <td>0.214027</td>\n",
       "      <td>-0.488754</td>\n",
       "      <td>0.893367</td>\n",
       "    </tr>\n",
       "    <tr>\n",
       "      <th>2024-11-03</th>\n",
       "      <td>-2.005810</td>\n",
       "      <td>-0.757105</td>\n",
       "      <td>-0.150606</td>\n",
       "      <td>0.689989</td>\n",
       "    </tr>\n",
       "  </tbody>\n",
       "</table>\n",
       "</div>"
      ],
      "text/plain": [
       "                   A         B         C         D\n",
       "2024-11-01 -0.668393 -0.576897  0.671319 -0.725978\n",
       "2024-11-02  0.257016  0.214027 -0.488754  0.893367\n",
       "2024-11-03 -2.005810 -0.757105 -0.150606  0.689989"
      ]
     },
     "execution_count": 71,
     "metadata": {},
     "output_type": "execute_result"
    }
   ],
   "source": [
    "df[0:3]"
   ]
  },
  {
   "cell_type": "code",
   "execution_count": 72,
   "id": "19e93c9e-5ad7-4b65-9804-aa50994ca73a",
   "metadata": {},
   "outputs": [
    {
     "data": {
      "text/html": [
       "<div>\n",
       "<style scoped>\n",
       "    .dataframe tbody tr th:only-of-type {\n",
       "        vertical-align: middle;\n",
       "    }\n",
       "\n",
       "    .dataframe tbody tr th {\n",
       "        vertical-align: top;\n",
       "    }\n",
       "\n",
       "    .dataframe thead th {\n",
       "        text-align: right;\n",
       "    }\n",
       "</style>\n",
       "<table border=\"1\" class=\"dataframe\">\n",
       "  <thead>\n",
       "    <tr style=\"text-align: right;\">\n",
       "      <th></th>\n",
       "      <th>A</th>\n",
       "      <th>B</th>\n",
       "      <th>C</th>\n",
       "      <th>D</th>\n",
       "    </tr>\n",
       "  </thead>\n",
       "  <tbody>\n",
       "    <tr>\n",
       "      <th>2024-11-02</th>\n",
       "      <td>0.257016</td>\n",
       "      <td>0.214027</td>\n",
       "      <td>-0.488754</td>\n",
       "      <td>0.893367</td>\n",
       "    </tr>\n",
       "    <tr>\n",
       "      <th>2024-11-03</th>\n",
       "      <td>-2.005810</td>\n",
       "      <td>-0.757105</td>\n",
       "      <td>-0.150606</td>\n",
       "      <td>0.689989</td>\n",
       "    </tr>\n",
       "    <tr>\n",
       "      <th>2024-11-04</th>\n",
       "      <td>-1.037308</td>\n",
       "      <td>1.030581</td>\n",
       "      <td>0.250836</td>\n",
       "      <td>0.810744</td>\n",
       "    </tr>\n",
       "  </tbody>\n",
       "</table>\n",
       "</div>"
      ],
      "text/plain": [
       "                   A         B         C         D\n",
       "2024-11-02  0.257016  0.214027 -0.488754  0.893367\n",
       "2024-11-03 -2.005810 -0.757105 -0.150606  0.689989\n",
       "2024-11-04 -1.037308  1.030581  0.250836  0.810744"
      ]
     },
     "execution_count": 72,
     "metadata": {},
     "output_type": "execute_result"
    }
   ],
   "source": [
    "df[\"20241102\":\"20241104\"] #slice till "
   ]
  },
  {
   "cell_type": "markdown",
   "id": "1acb7a95-464e-47bb-9cbe-2ed8dbafc815",
   "metadata": {},
   "source": [
    "### Loc\n",
    "loc is applied to dataframes only"
   ]
  },
  {
   "cell_type": "code",
   "execution_count": 73,
   "id": "5c026b61-279d-43d2-be2c-e5cedd4b57f6",
   "metadata": {},
   "outputs": [
    {
     "data": {
      "text/plain": [
       "A   -0.668393\n",
       "B   -0.576897\n",
       "C    0.671319\n",
       "D   -0.725978\n",
       "Name: 2024-11-01 00:00:00, dtype: float64"
      ]
     },
     "execution_count": 73,
     "metadata": {},
     "output_type": "execute_result"
    }
   ],
   "source": [
    "df.loc[dates[0]] #for row matching/selecting"
   ]
  },
  {
   "cell_type": "code",
   "execution_count": 74,
   "id": "6c334640-6e8a-43b1-a119-d56d71586a64",
   "metadata": {},
   "outputs": [
    {
     "data": {
      "text/html": [
       "<div>\n",
       "<style scoped>\n",
       "    .dataframe tbody tr th:only-of-type {\n",
       "        vertical-align: middle;\n",
       "    }\n",
       "\n",
       "    .dataframe tbody tr th {\n",
       "        vertical-align: top;\n",
       "    }\n",
       "\n",
       "    .dataframe thead th {\n",
       "        text-align: right;\n",
       "    }\n",
       "</style>\n",
       "<table border=\"1\" class=\"dataframe\">\n",
       "  <thead>\n",
       "    <tr style=\"text-align: right;\">\n",
       "      <th></th>\n",
       "      <th>A</th>\n",
       "      <th>B</th>\n",
       "    </tr>\n",
       "  </thead>\n",
       "  <tbody>\n",
       "    <tr>\n",
       "      <th>2024-11-01</th>\n",
       "      <td>-0.668393</td>\n",
       "      <td>-0.576897</td>\n",
       "    </tr>\n",
       "    <tr>\n",
       "      <th>2024-11-02</th>\n",
       "      <td>0.257016</td>\n",
       "      <td>0.214027</td>\n",
       "    </tr>\n",
       "    <tr>\n",
       "      <th>2024-11-03</th>\n",
       "      <td>-2.005810</td>\n",
       "      <td>-0.757105</td>\n",
       "    </tr>\n",
       "    <tr>\n",
       "      <th>2024-11-04</th>\n",
       "      <td>-1.037308</td>\n",
       "      <td>1.030581</td>\n",
       "    </tr>\n",
       "    <tr>\n",
       "      <th>2024-11-05</th>\n",
       "      <td>-0.370698</td>\n",
       "      <td>-0.104254</td>\n",
       "    </tr>\n",
       "    <tr>\n",
       "      <th>2024-11-06</th>\n",
       "      <td>-1.104879</td>\n",
       "      <td>1.392624</td>\n",
       "    </tr>\n",
       "  </tbody>\n",
       "</table>\n",
       "</div>"
      ],
      "text/plain": [
       "                   A         B\n",
       "2024-11-01 -0.668393 -0.576897\n",
       "2024-11-02  0.257016  0.214027\n",
       "2024-11-03 -2.005810 -0.757105\n",
       "2024-11-04 -1.037308  1.030581\n",
       "2024-11-05 -0.370698 -0.104254\n",
       "2024-11-06 -1.104879  1.392624"
      ]
     },
     "execution_count": 74,
     "metadata": {},
     "output_type": "execute_result"
    }
   ],
   "source": [
    "df.loc[:,[\"A\",\"B\"]]"
   ]
  },
  {
   "cell_type": "code",
   "execution_count": 75,
   "id": "05143e98-af35-4baf-b6b1-2a1afa04a0af",
   "metadata": {},
   "outputs": [
    {
     "data": {
      "text/plain": [
       "A   -0.668393\n",
       "D   -0.725978\n",
       "Name: 2024-11-01 00:00:00, dtype: float64"
      ]
     },
     "execution_count": 75,
     "metadata": {},
     "output_type": "execute_result"
    }
   ],
   "source": [
    "df.loc[dates[0],[\"A\",\"D\"]]"
   ]
  },
  {
   "cell_type": "code",
   "execution_count": 76,
   "id": "b4b64a33-1585-4c01-ac48-7dd921bffe9a",
   "metadata": {},
   "outputs": [
    {
     "data": {
      "text/html": [
       "<div>\n",
       "<style scoped>\n",
       "    .dataframe tbody tr th:only-of-type {\n",
       "        vertical-align: middle;\n",
       "    }\n",
       "\n",
       "    .dataframe tbody tr th {\n",
       "        vertical-align: top;\n",
       "    }\n",
       "\n",
       "    .dataframe thead th {\n",
       "        text-align: right;\n",
       "    }\n",
       "</style>\n",
       "<table border=\"1\" class=\"dataframe\">\n",
       "  <thead>\n",
       "    <tr style=\"text-align: right;\">\n",
       "      <th></th>\n",
       "      <th>A</th>\n",
       "      <th>C</th>\n",
       "    </tr>\n",
       "  </thead>\n",
       "  <tbody>\n",
       "    <tr>\n",
       "      <th>2024-11-02</th>\n",
       "      <td>0.257016</td>\n",
       "      <td>-0.488754</td>\n",
       "    </tr>\n",
       "    <tr>\n",
       "      <th>2024-11-03</th>\n",
       "      <td>-2.005810</td>\n",
       "      <td>-0.150606</td>\n",
       "    </tr>\n",
       "    <tr>\n",
       "      <th>2024-11-04</th>\n",
       "      <td>-1.037308</td>\n",
       "      <td>0.250836</td>\n",
       "    </tr>\n",
       "  </tbody>\n",
       "</table>\n",
       "</div>"
      ],
      "text/plain": [
       "                   A         C\n",
       "2024-11-02  0.257016 -0.488754\n",
       "2024-11-03 -2.005810 -0.150606\n",
       "2024-11-04 -1.037308  0.250836"
      ]
     },
     "execution_count": 76,
     "metadata": {},
     "output_type": "execute_result"
    }
   ],
   "source": [
    "df.loc[\"20241102\":\"20241104\",[\"A\",\"C\"]] "
   ]
  },
  {
   "cell_type": "code",
   "execution_count": 84,
   "id": "7e842333-58d2-42cd-8c72-ec3a2faee132",
   "metadata": {},
   "outputs": [],
   "source": [
    "#df.loc[\"20241102\":\"20241104\",0:2] #error"
   ]
  },
  {
   "cell_type": "markdown",
   "id": "0c788810-5a9d-4f05-84c3-6ebfff3bc7c5",
   "metadata": {},
   "source": [
    "### Fast Access Scalar: at (will always give single value, faster than loc)"
   ]
  },
  {
   "cell_type": "code",
   "execution_count": 77,
   "id": "c7377323-893e-4da9-9077-fa6d583b4372",
   "metadata": {},
   "outputs": [
    {
     "data": {
      "text/plain": [
       "-0.6683929378512177"
      ]
     },
     "execution_count": 77,
     "metadata": {},
     "output_type": "execute_result"
    }
   ],
   "source": [
    "df.at[dates[0],\"A\"]"
   ]
  },
  {
   "cell_type": "code",
   "execution_count": 79,
   "id": "266969cf-fcb6-426a-a802-7c0b52c0f517",
   "metadata": {},
   "outputs": [],
   "source": [
    "#df.at[:,[\"A\",\"B\"]] #error"
   ]
  },
  {
   "cell_type": "code",
   "execution_count": 80,
   "id": "adc64c42-8eb6-41a1-860b-0e4d66c8afaf",
   "metadata": {},
   "outputs": [
    {
     "data": {
      "text/plain": [
       "A   -1.037308\n",
       "B    1.030581\n",
       "C    0.250836\n",
       "D    0.810744\n",
       "Name: 2024-11-04 00:00:00, dtype: float64"
      ]
     },
     "execution_count": 80,
     "metadata": {},
     "output_type": "execute_result"
    }
   ],
   "source": [
    "df.iloc[3]"
   ]
  },
  {
   "cell_type": "code",
   "execution_count": 81,
   "id": "38af5c2f-11af-4c1d-8196-b94693a080de",
   "metadata": {},
   "outputs": [
    {
     "data": {
      "text/html": [
       "<div>\n",
       "<style scoped>\n",
       "    .dataframe tbody tr th:only-of-type {\n",
       "        vertical-align: middle;\n",
       "    }\n",
       "\n",
       "    .dataframe tbody tr th {\n",
       "        vertical-align: top;\n",
       "    }\n",
       "\n",
       "    .dataframe thead th {\n",
       "        text-align: right;\n",
       "    }\n",
       "</style>\n",
       "<table border=\"1\" class=\"dataframe\">\n",
       "  <thead>\n",
       "    <tr style=\"text-align: right;\">\n",
       "      <th></th>\n",
       "      <th>A</th>\n",
       "      <th>B</th>\n",
       "      <th>C</th>\n",
       "      <th>D</th>\n",
       "    </tr>\n",
       "  </thead>\n",
       "  <tbody>\n",
       "    <tr>\n",
       "      <th>2024-11-01</th>\n",
       "      <td>-0.668393</td>\n",
       "      <td>-0.576897</td>\n",
       "      <td>0.671319</td>\n",
       "      <td>-0.725978</td>\n",
       "    </tr>\n",
       "    <tr>\n",
       "      <th>2024-11-02</th>\n",
       "      <td>0.257016</td>\n",
       "      <td>0.214027</td>\n",
       "      <td>-0.488754</td>\n",
       "      <td>0.893367</td>\n",
       "    </tr>\n",
       "    <tr>\n",
       "      <th>2024-11-03</th>\n",
       "      <td>-2.005810</td>\n",
       "      <td>-0.757105</td>\n",
       "      <td>-0.150606</td>\n",
       "      <td>0.689989</td>\n",
       "    </tr>\n",
       "    <tr>\n",
       "      <th>2024-11-04</th>\n",
       "      <td>-1.037308</td>\n",
       "      <td>1.030581</td>\n",
       "      <td>0.250836</td>\n",
       "      <td>0.810744</td>\n",
       "    </tr>\n",
       "    <tr>\n",
       "      <th>2024-11-05</th>\n",
       "      <td>-0.370698</td>\n",
       "      <td>-0.104254</td>\n",
       "      <td>-0.812296</td>\n",
       "      <td>0.866765</td>\n",
       "    </tr>\n",
       "    <tr>\n",
       "      <th>2024-11-06</th>\n",
       "      <td>-1.104879</td>\n",
       "      <td>1.392624</td>\n",
       "      <td>1.214158</td>\n",
       "      <td>1.865242</td>\n",
       "    </tr>\n",
       "  </tbody>\n",
       "</table>\n",
       "</div>"
      ],
      "text/plain": [
       "                   A         B         C         D\n",
       "2024-11-01 -0.668393 -0.576897  0.671319 -0.725978\n",
       "2024-11-02  0.257016  0.214027 -0.488754  0.893367\n",
       "2024-11-03 -2.005810 -0.757105 -0.150606  0.689989\n",
       "2024-11-04 -1.037308  1.030581  0.250836  0.810744\n",
       "2024-11-05 -0.370698 -0.104254 -0.812296  0.866765\n",
       "2024-11-06 -1.104879  1.392624  1.214158  1.865242"
      ]
     },
     "execution_count": 81,
     "metadata": {},
     "output_type": "execute_result"
    }
   ],
   "source": [
    "df"
   ]
  },
  {
   "cell_type": "code",
   "execution_count": 86,
   "id": "8e6f70bc-d02a-459a-a044-cf801780a7f4",
   "metadata": {},
   "outputs": [
    {
     "data": {
      "text/html": [
       "<div>\n",
       "<style scoped>\n",
       "    .dataframe tbody tr th:only-of-type {\n",
       "        vertical-align: middle;\n",
       "    }\n",
       "\n",
       "    .dataframe tbody tr th {\n",
       "        vertical-align: top;\n",
       "    }\n",
       "\n",
       "    .dataframe thead th {\n",
       "        text-align: right;\n",
       "    }\n",
       "</style>\n",
       "<table border=\"1\" class=\"dataframe\">\n",
       "  <thead>\n",
       "    <tr style=\"text-align: right;\">\n",
       "      <th></th>\n",
       "      <th>A</th>\n",
       "      <th>B</th>\n",
       "    </tr>\n",
       "  </thead>\n",
       "  <tbody>\n",
       "    <tr>\n",
       "      <th>2024-11-04</th>\n",
       "      <td>-1.037308</td>\n",
       "      <td>1.030581</td>\n",
       "    </tr>\n",
       "    <tr>\n",
       "      <th>2024-11-05</th>\n",
       "      <td>-0.370698</td>\n",
       "      <td>-0.104254</td>\n",
       "    </tr>\n",
       "    <tr>\n",
       "      <th>2024-11-06</th>\n",
       "      <td>-1.104879</td>\n",
       "      <td>1.392624</td>\n",
       "    </tr>\n",
       "  </tbody>\n",
       "</table>\n",
       "</div>"
      ],
      "text/plain": [
       "                   A         B\n",
       "2024-11-04 -1.037308  1.030581\n",
       "2024-11-05 -0.370698 -0.104254\n",
       "2024-11-06 -1.104879  1.392624"
      ]
     },
     "execution_count": 86,
     "metadata": {},
     "output_type": "execute_result"
    }
   ],
   "source": [
    "df.iloc[3:,0:2] #in loc we cannot slice column by index, we have to give column name"
   ]
  },
  {
   "cell_type": "code",
   "execution_count": 87,
   "id": "c110f98c-c082-4e49-ae84-6dac2d24bfb0",
   "metadata": {},
   "outputs": [
    {
     "data": {
      "text/html": [
       "<div>\n",
       "<style scoped>\n",
       "    .dataframe tbody tr th:only-of-type {\n",
       "        vertical-align: middle;\n",
       "    }\n",
       "\n",
       "    .dataframe tbody tr th {\n",
       "        vertical-align: top;\n",
       "    }\n",
       "\n",
       "    .dataframe thead th {\n",
       "        text-align: right;\n",
       "    }\n",
       "</style>\n",
       "<table border=\"1\" class=\"dataframe\">\n",
       "  <thead>\n",
       "    <tr style=\"text-align: right;\">\n",
       "      <th></th>\n",
       "      <th>A</th>\n",
       "      <th>C</th>\n",
       "    </tr>\n",
       "  </thead>\n",
       "  <tbody>\n",
       "    <tr>\n",
       "      <th>2024-11-02</th>\n",
       "      <td>0.257016</td>\n",
       "      <td>-0.488754</td>\n",
       "    </tr>\n",
       "    <tr>\n",
       "      <th>2024-11-03</th>\n",
       "      <td>-2.005810</td>\n",
       "      <td>-0.150606</td>\n",
       "    </tr>\n",
       "    <tr>\n",
       "      <th>2024-11-05</th>\n",
       "      <td>-0.370698</td>\n",
       "      <td>-0.812296</td>\n",
       "    </tr>\n",
       "  </tbody>\n",
       "</table>\n",
       "</div>"
      ],
      "text/plain": [
       "                   A         C\n",
       "2024-11-02  0.257016 -0.488754\n",
       "2024-11-03 -2.005810 -0.150606\n",
       "2024-11-05 -0.370698 -0.812296"
      ]
     },
     "execution_count": 87,
     "metadata": {},
     "output_type": "execute_result"
    }
   ],
   "source": [
    "df.iloc[[1,2,4],[0,2]]"
   ]
  },
  {
   "cell_type": "code",
   "execution_count": 88,
   "id": "df13a8cf-0745-41f3-8499-4dc19cd80c0c",
   "metadata": {},
   "outputs": [
    {
     "data": {
      "text/plain": [
       "0.2140266550806666"
      ]
     },
     "execution_count": 88,
     "metadata": {},
     "output_type": "execute_result"
    }
   ],
   "source": [
    "df.iloc[1,1]"
   ]
  },
  {
   "cell_type": "code",
   "execution_count": 89,
   "id": "f1965c53-a71e-44b7-ade4-7cb5729c4569",
   "metadata": {},
   "outputs": [
    {
     "data": {
      "text/plain": [
       "0.2140266550806666"
      ]
     },
     "execution_count": 89,
     "metadata": {},
     "output_type": "execute_result"
    }
   ],
   "source": [
    "df.iat[1,1]"
   ]
  },
  {
   "cell_type": "code",
   "execution_count": 93,
   "id": "abc918ae-e776-4ac0-bea6-aa5b0504b8cb",
   "metadata": {},
   "outputs": [
    {
     "data": {
      "text/html": [
       "<div>\n",
       "<style scoped>\n",
       "    .dataframe tbody tr th:only-of-type {\n",
       "        vertical-align: middle;\n",
       "    }\n",
       "\n",
       "    .dataframe tbody tr th {\n",
       "        vertical-align: top;\n",
       "    }\n",
       "\n",
       "    .dataframe thead th {\n",
       "        text-align: right;\n",
       "    }\n",
       "</style>\n",
       "<table border=\"1\" class=\"dataframe\">\n",
       "  <thead>\n",
       "    <tr style=\"text-align: right;\">\n",
       "      <th></th>\n",
       "      <th>A</th>\n",
       "      <th>B</th>\n",
       "      <th>C</th>\n",
       "      <th>D</th>\n",
       "    </tr>\n",
       "  </thead>\n",
       "  <tbody>\n",
       "    <tr>\n",
       "      <th>2024-11-01</th>\n",
       "      <td>-0.668393</td>\n",
       "      <td>-0.576897</td>\n",
       "      <td>0.671319</td>\n",
       "      <td>-0.725978</td>\n",
       "    </tr>\n",
       "    <tr>\n",
       "      <th>2024-11-04</th>\n",
       "      <td>-1.037308</td>\n",
       "      <td>1.030581</td>\n",
       "      <td>0.250836</td>\n",
       "      <td>0.810744</td>\n",
       "    </tr>\n",
       "    <tr>\n",
       "      <th>2024-11-06</th>\n",
       "      <td>-1.104879</td>\n",
       "      <td>1.392624</td>\n",
       "      <td>1.214158</td>\n",
       "      <td>1.865242</td>\n",
       "    </tr>\n",
       "  </tbody>\n",
       "</table>\n",
       "</div>"
      ],
      "text/plain": [
       "                   A         B         C         D\n",
       "2024-11-01 -0.668393 -0.576897  0.671319 -0.725978\n",
       "2024-11-04 -1.037308  1.030581  0.250836  0.810744\n",
       "2024-11-06 -1.104879  1.392624  1.214158  1.865242"
      ]
     },
     "execution_count": 93,
     "metadata": {},
     "output_type": "execute_result"
    }
   ],
   "source": [
    "df[df[\"C\"]>0]"
   ]
  },
  {
   "cell_type": "code",
   "execution_count": 94,
   "id": "8319c9fa-a53b-495f-9d46-a9d9ac642f58",
   "metadata": {},
   "outputs": [
    {
     "data": {
      "text/html": [
       "<div>\n",
       "<style scoped>\n",
       "    .dataframe tbody tr th:only-of-type {\n",
       "        vertical-align: middle;\n",
       "    }\n",
       "\n",
       "    .dataframe tbody tr th {\n",
       "        vertical-align: top;\n",
       "    }\n",
       "\n",
       "    .dataframe thead th {\n",
       "        text-align: right;\n",
       "    }\n",
       "</style>\n",
       "<table border=\"1\" class=\"dataframe\">\n",
       "  <thead>\n",
       "    <tr style=\"text-align: right;\">\n",
       "      <th></th>\n",
       "      <th>A</th>\n",
       "      <th>B</th>\n",
       "      <th>C</th>\n",
       "      <th>D</th>\n",
       "    </tr>\n",
       "  </thead>\n",
       "  <tbody>\n",
       "    <tr>\n",
       "      <th>2024-11-01</th>\n",
       "      <td>NaN</td>\n",
       "      <td>NaN</td>\n",
       "      <td>0.671319</td>\n",
       "      <td>NaN</td>\n",
       "    </tr>\n",
       "    <tr>\n",
       "      <th>2024-11-02</th>\n",
       "      <td>0.257016</td>\n",
       "      <td>0.214027</td>\n",
       "      <td>NaN</td>\n",
       "      <td>0.893367</td>\n",
       "    </tr>\n",
       "    <tr>\n",
       "      <th>2024-11-03</th>\n",
       "      <td>NaN</td>\n",
       "      <td>NaN</td>\n",
       "      <td>NaN</td>\n",
       "      <td>0.689989</td>\n",
       "    </tr>\n",
       "    <tr>\n",
       "      <th>2024-11-04</th>\n",
       "      <td>NaN</td>\n",
       "      <td>1.030581</td>\n",
       "      <td>0.250836</td>\n",
       "      <td>0.810744</td>\n",
       "    </tr>\n",
       "    <tr>\n",
       "      <th>2024-11-05</th>\n",
       "      <td>NaN</td>\n",
       "      <td>NaN</td>\n",
       "      <td>NaN</td>\n",
       "      <td>0.866765</td>\n",
       "    </tr>\n",
       "    <tr>\n",
       "      <th>2024-11-06</th>\n",
       "      <td>NaN</td>\n",
       "      <td>1.392624</td>\n",
       "      <td>1.214158</td>\n",
       "      <td>1.865242</td>\n",
       "    </tr>\n",
       "  </tbody>\n",
       "</table>\n",
       "</div>"
      ],
      "text/plain": [
       "                   A         B         C         D\n",
       "2024-11-01       NaN       NaN  0.671319       NaN\n",
       "2024-11-02  0.257016  0.214027       NaN  0.893367\n",
       "2024-11-03       NaN       NaN       NaN  0.689989\n",
       "2024-11-04       NaN  1.030581  0.250836  0.810744\n",
       "2024-11-05       NaN       NaN       NaN  0.866765\n",
       "2024-11-06       NaN  1.392624  1.214158  1.865242"
      ]
     },
     "execution_count": 94,
     "metadata": {},
     "output_type": "execute_result"
    }
   ],
   "source": [
    "df[df>0]"
   ]
  },
  {
   "cell_type": "markdown",
   "id": "a1640355-65cb-4d50-88e8-d68f8806d092",
   "metadata": {},
   "source": [
    "### isin method for filtering"
   ]
  },
  {
   "cell_type": "code",
   "execution_count": 95,
   "id": "37ac8b2f-c80d-4a77-9c78-4422752c27b6",
   "metadata": {},
   "outputs": [
    {
     "data": {
      "text/html": [
       "<div>\n",
       "<style scoped>\n",
       "    .dataframe tbody tr th:only-of-type {\n",
       "        vertical-align: middle;\n",
       "    }\n",
       "\n",
       "    .dataframe tbody tr th {\n",
       "        vertical-align: top;\n",
       "    }\n",
       "\n",
       "    .dataframe thead th {\n",
       "        text-align: right;\n",
       "    }\n",
       "</style>\n",
       "<table border=\"1\" class=\"dataframe\">\n",
       "  <thead>\n",
       "    <tr style=\"text-align: right;\">\n",
       "      <th></th>\n",
       "      <th>A</th>\n",
       "      <th>B</th>\n",
       "      <th>C</th>\n",
       "      <th>D</th>\n",
       "    </tr>\n",
       "  </thead>\n",
       "  <tbody>\n",
       "    <tr>\n",
       "      <th>2024-11-01</th>\n",
       "      <td>-0.668393</td>\n",
       "      <td>-0.576897</td>\n",
       "      <td>0.671319</td>\n",
       "      <td>-0.725978</td>\n",
       "    </tr>\n",
       "    <tr>\n",
       "      <th>2024-11-02</th>\n",
       "      <td>0.257016</td>\n",
       "      <td>0.214027</td>\n",
       "      <td>-0.488754</td>\n",
       "      <td>0.893367</td>\n",
       "    </tr>\n",
       "    <tr>\n",
       "      <th>2024-11-03</th>\n",
       "      <td>-2.005810</td>\n",
       "      <td>-0.757105</td>\n",
       "      <td>-0.150606</td>\n",
       "      <td>0.689989</td>\n",
       "    </tr>\n",
       "    <tr>\n",
       "      <th>2024-11-04</th>\n",
       "      <td>-1.037308</td>\n",
       "      <td>1.030581</td>\n",
       "      <td>0.250836</td>\n",
       "      <td>0.810744</td>\n",
       "    </tr>\n",
       "    <tr>\n",
       "      <th>2024-11-05</th>\n",
       "      <td>-0.370698</td>\n",
       "      <td>-0.104254</td>\n",
       "      <td>-0.812296</td>\n",
       "      <td>0.866765</td>\n",
       "    </tr>\n",
       "    <tr>\n",
       "      <th>2024-11-06</th>\n",
       "      <td>-1.104879</td>\n",
       "      <td>1.392624</td>\n",
       "      <td>1.214158</td>\n",
       "      <td>1.865242</td>\n",
       "    </tr>\n",
       "  </tbody>\n",
       "</table>\n",
       "</div>"
      ],
      "text/plain": [
       "                   A         B         C         D\n",
       "2024-11-01 -0.668393 -0.576897  0.671319 -0.725978\n",
       "2024-11-02  0.257016  0.214027 -0.488754  0.893367\n",
       "2024-11-03 -2.005810 -0.757105 -0.150606  0.689989\n",
       "2024-11-04 -1.037308  1.030581  0.250836  0.810744\n",
       "2024-11-05 -0.370698 -0.104254 -0.812296  0.866765\n",
       "2024-11-06 -1.104879  1.392624  1.214158  1.865242"
      ]
     },
     "execution_count": 95,
     "metadata": {},
     "output_type": "execute_result"
    }
   ],
   "source": [
    "df3=df.copy()\n",
    "df3"
   ]
  },
  {
   "cell_type": "code",
   "execution_count": 99,
   "id": "9dc83323-96de-4a35-aaa3-f0654609d105",
   "metadata": {},
   "outputs": [
    {
     "data": {
      "text/html": [
       "<div>\n",
       "<style scoped>\n",
       "    .dataframe tbody tr th:only-of-type {\n",
       "        vertical-align: middle;\n",
       "    }\n",
       "\n",
       "    .dataframe tbody tr th {\n",
       "        vertical-align: top;\n",
       "    }\n",
       "\n",
       "    .dataframe thead th {\n",
       "        text-align: right;\n",
       "    }\n",
       "</style>\n",
       "<table border=\"1\" class=\"dataframe\">\n",
       "  <thead>\n",
       "    <tr style=\"text-align: right;\">\n",
       "      <th></th>\n",
       "      <th>A</th>\n",
       "      <th>B</th>\n",
       "      <th>C</th>\n",
       "      <th>D</th>\n",
       "      <th>E</th>\n",
       "    </tr>\n",
       "  </thead>\n",
       "  <tbody>\n",
       "    <tr>\n",
       "      <th>2024-11-01</th>\n",
       "      <td>-0.668393</td>\n",
       "      <td>-0.576897</td>\n",
       "      <td>0.671319</td>\n",
       "      <td>-0.725978</td>\n",
       "      <td>one</td>\n",
       "    </tr>\n",
       "    <tr>\n",
       "      <th>2024-11-02</th>\n",
       "      <td>0.257016</td>\n",
       "      <td>0.214027</td>\n",
       "      <td>-0.488754</td>\n",
       "      <td>0.893367</td>\n",
       "      <td>one</td>\n",
       "    </tr>\n",
       "    <tr>\n",
       "      <th>2024-11-03</th>\n",
       "      <td>-2.005810</td>\n",
       "      <td>-0.757105</td>\n",
       "      <td>-0.150606</td>\n",
       "      <td>0.689989</td>\n",
       "      <td>two</td>\n",
       "    </tr>\n",
       "    <tr>\n",
       "      <th>2024-11-04</th>\n",
       "      <td>-1.037308</td>\n",
       "      <td>1.030581</td>\n",
       "      <td>0.250836</td>\n",
       "      <td>0.810744</td>\n",
       "      <td>three</td>\n",
       "    </tr>\n",
       "    <tr>\n",
       "      <th>2024-11-05</th>\n",
       "      <td>-0.370698</td>\n",
       "      <td>-0.104254</td>\n",
       "      <td>-0.812296</td>\n",
       "      <td>0.866765</td>\n",
       "      <td>four</td>\n",
       "    </tr>\n",
       "    <tr>\n",
       "      <th>2024-11-06</th>\n",
       "      <td>-1.104879</td>\n",
       "      <td>1.392624</td>\n",
       "      <td>1.214158</td>\n",
       "      <td>1.865242</td>\n",
       "      <td>NaN</td>\n",
       "    </tr>\n",
       "  </tbody>\n",
       "</table>\n",
       "</div>"
      ],
      "text/plain": [
       "                   A         B         C         D      E\n",
       "2024-11-01 -0.668393 -0.576897  0.671319 -0.725978    one\n",
       "2024-11-02  0.257016  0.214027 -0.488754  0.893367    one\n",
       "2024-11-03 -2.005810 -0.757105 -0.150606  0.689989    two\n",
       "2024-11-04 -1.037308  1.030581  0.250836  0.810744  three\n",
       "2024-11-05 -0.370698 -0.104254 -0.812296  0.866765   four\n",
       "2024-11-06 -1.104879  1.392624  1.214158  1.865242    NaN"
      ]
     },
     "execution_count": 99,
     "metadata": {},
     "output_type": "execute_result"
    }
   ],
   "source": [
    "df3[\"E\"]=[\"one\",\"one\",\"two\",\"three\",\"four\",np.nan]\n",
    "df3"
   ]
  },
  {
   "cell_type": "code",
   "execution_count": 101,
   "id": "f4dcc994-bfdb-4d5d-9362-b3297b75f58e",
   "metadata": {},
   "outputs": [
    {
     "data": {
      "text/html": [
       "<div>\n",
       "<style scoped>\n",
       "    .dataframe tbody tr th:only-of-type {\n",
       "        vertical-align: middle;\n",
       "    }\n",
       "\n",
       "    .dataframe tbody tr th {\n",
       "        vertical-align: top;\n",
       "    }\n",
       "\n",
       "    .dataframe thead th {\n",
       "        text-align: right;\n",
       "    }\n",
       "</style>\n",
       "<table border=\"1\" class=\"dataframe\">\n",
       "  <thead>\n",
       "    <tr style=\"text-align: right;\">\n",
       "      <th></th>\n",
       "      <th>A</th>\n",
       "      <th>B</th>\n",
       "      <th>C</th>\n",
       "      <th>D</th>\n",
       "      <th>E</th>\n",
       "    </tr>\n",
       "  </thead>\n",
       "  <tbody>\n",
       "    <tr>\n",
       "      <th>2024-11-05</th>\n",
       "      <td>-0.370698</td>\n",
       "      <td>-0.104254</td>\n",
       "      <td>-0.812296</td>\n",
       "      <td>0.866765</td>\n",
       "      <td>four</td>\n",
       "    </tr>\n",
       "  </tbody>\n",
       "</table>\n",
       "</div>"
      ],
      "text/plain": [
       "                   A         B         C         D     E\n",
       "2024-11-05 -0.370698 -0.104254 -0.812296  0.866765  four"
      ]
     },
     "execution_count": 101,
     "metadata": {},
     "output_type": "execute_result"
    }
   ],
   "source": [
    "df3[df3[\"E\"].isin([\"five\",\"four\"])]"
   ]
  },
  {
   "cell_type": "code",
   "execution_count": 105,
   "id": "b055c74c-eb8b-49ab-9192-c468438af363",
   "metadata": {},
   "outputs": [
    {
     "data": {
      "text/html": [
       "<div>\n",
       "<style scoped>\n",
       "    .dataframe tbody tr th:only-of-type {\n",
       "        vertical-align: middle;\n",
       "    }\n",
       "\n",
       "    .dataframe tbody tr th {\n",
       "        vertical-align: top;\n",
       "    }\n",
       "\n",
       "    .dataframe thead th {\n",
       "        text-align: right;\n",
       "    }\n",
       "</style>\n",
       "<table border=\"1\" class=\"dataframe\">\n",
       "  <thead>\n",
       "    <tr style=\"text-align: right;\">\n",
       "      <th></th>\n",
       "      <th>A</th>\n",
       "      <th>B</th>\n",
       "      <th>C</th>\n",
       "      <th>D</th>\n",
       "    </tr>\n",
       "  </thead>\n",
       "  <tbody>\n",
       "    <tr>\n",
       "      <th>2024-11-01</th>\n",
       "      <td>-0.668393</td>\n",
       "      <td>2.000000</td>\n",
       "      <td>0.671319</td>\n",
       "      <td>-0.725978</td>\n",
       "    </tr>\n",
       "    <tr>\n",
       "      <th>2024-11-02</th>\n",
       "      <td>0.257016</td>\n",
       "      <td>0.214027</td>\n",
       "      <td>-0.488754</td>\n",
       "      <td>0.893367</td>\n",
       "    </tr>\n",
       "    <tr>\n",
       "      <th>2024-11-03</th>\n",
       "      <td>-2.005810</td>\n",
       "      <td>-0.757105</td>\n",
       "      <td>-0.150606</td>\n",
       "      <td>0.689989</td>\n",
       "    </tr>\n",
       "    <tr>\n",
       "      <th>2024-11-04</th>\n",
       "      <td>-1.037308</td>\n",
       "      <td>1.030581</td>\n",
       "      <td>0.250836</td>\n",
       "      <td>0.810744</td>\n",
       "    </tr>\n",
       "    <tr>\n",
       "      <th>2024-11-05</th>\n",
       "      <td>-0.370698</td>\n",
       "      <td>-0.104254</td>\n",
       "      <td>-0.812296</td>\n",
       "      <td>0.866765</td>\n",
       "    </tr>\n",
       "    <tr>\n",
       "      <th>2024-11-06</th>\n",
       "      <td>-1.104879</td>\n",
       "      <td>1.392624</td>\n",
       "      <td>1.214158</td>\n",
       "      <td>1.865242</td>\n",
       "    </tr>\n",
       "  </tbody>\n",
       "</table>\n",
       "</div>"
      ],
      "text/plain": [
       "                   A         B         C         D\n",
       "2024-11-01 -0.668393  2.000000  0.671319 -0.725978\n",
       "2024-11-02  0.257016  0.214027 -0.488754  0.893367\n",
       "2024-11-03 -2.005810 -0.757105 -0.150606  0.689989\n",
       "2024-11-04 -1.037308  1.030581  0.250836  0.810744\n",
       "2024-11-05 -0.370698 -0.104254 -0.812296  0.866765\n",
       "2024-11-06 -1.104879  1.392624  1.214158  1.865242"
      ]
     },
     "execution_count": 105,
     "metadata": {},
     "output_type": "execute_result"
    }
   ],
   "source": [
    "df.iat[0,1]=2 #to change any specific value\n",
    "df"
   ]
  },
  {
   "cell_type": "code",
   "execution_count": 107,
   "id": "59070241-306d-4ed4-93d9-50c5b336ba5c",
   "metadata": {},
   "outputs": [
    {
     "data": {
      "text/html": [
       "<div>\n",
       "<style scoped>\n",
       "    .dataframe tbody tr th:only-of-type {\n",
       "        vertical-align: middle;\n",
       "    }\n",
       "\n",
       "    .dataframe tbody tr th {\n",
       "        vertical-align: top;\n",
       "    }\n",
       "\n",
       "    .dataframe thead th {\n",
       "        text-align: right;\n",
       "    }\n",
       "</style>\n",
       "<table border=\"1\" class=\"dataframe\">\n",
       "  <thead>\n",
       "    <tr style=\"text-align: right;\">\n",
       "      <th></th>\n",
       "      <th>A</th>\n",
       "      <th>B</th>\n",
       "      <th>C</th>\n",
       "      <th>D</th>\n",
       "    </tr>\n",
       "  </thead>\n",
       "  <tbody>\n",
       "    <tr>\n",
       "      <th>2024-11-01</th>\n",
       "      <td>-0.668393</td>\n",
       "      <td>2.000000</td>\n",
       "      <td>0.671319</td>\n",
       "      <td>5.0</td>\n",
       "    </tr>\n",
       "    <tr>\n",
       "      <th>2024-11-02</th>\n",
       "      <td>0.257016</td>\n",
       "      <td>0.214027</td>\n",
       "      <td>-0.488754</td>\n",
       "      <td>5.0</td>\n",
       "    </tr>\n",
       "    <tr>\n",
       "      <th>2024-11-03</th>\n",
       "      <td>-2.005810</td>\n",
       "      <td>-0.757105</td>\n",
       "      <td>-0.150606</td>\n",
       "      <td>5.0</td>\n",
       "    </tr>\n",
       "    <tr>\n",
       "      <th>2024-11-04</th>\n",
       "      <td>-1.037308</td>\n",
       "      <td>1.030581</td>\n",
       "      <td>0.250836</td>\n",
       "      <td>5.0</td>\n",
       "    </tr>\n",
       "    <tr>\n",
       "      <th>2024-11-05</th>\n",
       "      <td>-0.370698</td>\n",
       "      <td>-0.104254</td>\n",
       "      <td>-0.812296</td>\n",
       "      <td>5.0</td>\n",
       "    </tr>\n",
       "    <tr>\n",
       "      <th>2024-11-06</th>\n",
       "      <td>-1.104879</td>\n",
       "      <td>1.392624</td>\n",
       "      <td>1.214158</td>\n",
       "      <td>5.0</td>\n",
       "    </tr>\n",
       "  </tbody>\n",
       "</table>\n",
       "</div>"
      ],
      "text/plain": [
       "                   A         B         C    D\n",
       "2024-11-01 -0.668393  2.000000  0.671319  5.0\n",
       "2024-11-02  0.257016  0.214027 -0.488754  5.0\n",
       "2024-11-03 -2.005810 -0.757105 -0.150606  5.0\n",
       "2024-11-04 -1.037308  1.030581  0.250836  5.0\n",
       "2024-11-05 -0.370698 -0.104254 -0.812296  5.0\n",
       "2024-11-06 -1.104879  1.392624  1.214158  5.0"
      ]
     },
     "execution_count": 107,
     "metadata": {},
     "output_type": "execute_result"
    }
   ],
   "source": [
    "df.loc[:,\"D\"]=np.array([5]*len(df))\n",
    "df"
   ]
  },
  {
   "cell_type": "code",
   "execution_count": 110,
   "id": "d3ec4064-fc91-435e-9563-f5585b13ee5d",
   "metadata": {},
   "outputs": [
    {
     "data": {
      "text/html": [
       "<div>\n",
       "<style scoped>\n",
       "    .dataframe tbody tr th:only-of-type {\n",
       "        vertical-align: middle;\n",
       "    }\n",
       "\n",
       "    .dataframe tbody tr th {\n",
       "        vertical-align: top;\n",
       "    }\n",
       "\n",
       "    .dataframe thead th {\n",
       "        text-align: right;\n",
       "    }\n",
       "</style>\n",
       "<table border=\"1\" class=\"dataframe\">\n",
       "  <thead>\n",
       "    <tr style=\"text-align: right;\">\n",
       "      <th></th>\n",
       "      <th>A</th>\n",
       "      <th>B</th>\n",
       "      <th>C</th>\n",
       "      <th>D</th>\n",
       "    </tr>\n",
       "  </thead>\n",
       "  <tbody>\n",
       "    <tr>\n",
       "      <th>2024-11-01</th>\n",
       "      <td>-0.668393</td>\n",
       "      <td>2.000000</td>\n",
       "      <td>0.671319</td>\n",
       "      <td>4.0</td>\n",
       "    </tr>\n",
       "    <tr>\n",
       "      <th>2024-11-02</th>\n",
       "      <td>0.257016</td>\n",
       "      <td>0.214027</td>\n",
       "      <td>-0.488754</td>\n",
       "      <td>4.0</td>\n",
       "    </tr>\n",
       "    <tr>\n",
       "      <th>2024-11-03</th>\n",
       "      <td>-2.005810</td>\n",
       "      <td>-0.757105</td>\n",
       "      <td>-0.150606</td>\n",
       "      <td>4.0</td>\n",
       "    </tr>\n",
       "    <tr>\n",
       "      <th>2024-11-04</th>\n",
       "      <td>-1.037308</td>\n",
       "      <td>1.030581</td>\n",
       "      <td>0.250836</td>\n",
       "      <td>4.0</td>\n",
       "    </tr>\n",
       "    <tr>\n",
       "      <th>2024-11-05</th>\n",
       "      <td>-0.370698</td>\n",
       "      <td>-0.104254</td>\n",
       "      <td>-0.812296</td>\n",
       "      <td>4.0</td>\n",
       "    </tr>\n",
       "    <tr>\n",
       "      <th>2024-11-06</th>\n",
       "      <td>-1.104879</td>\n",
       "      <td>1.392624</td>\n",
       "      <td>1.214158</td>\n",
       "      <td>4.0</td>\n",
       "    </tr>\n",
       "  </tbody>\n",
       "</table>\n",
       "</div>"
      ],
      "text/plain": [
       "                   A         B         C    D\n",
       "2024-11-01 -0.668393  2.000000  0.671319  4.0\n",
       "2024-11-02  0.257016  0.214027 -0.488754  4.0\n",
       "2024-11-03 -2.005810 -0.757105 -0.150606  4.0\n",
       "2024-11-04 -1.037308  1.030581  0.250836  4.0\n",
       "2024-11-05 -0.370698 -0.104254 -0.812296  4.0\n",
       "2024-11-06 -1.104879  1.392624  1.214158  4.0"
      ]
     },
     "execution_count": 110,
     "metadata": {},
     "output_type": "execute_result"
    }
   ],
   "source": [
    "df.iloc[:,3]=np.array([4]*len(df))\n",
    "df"
   ]
  },
  {
   "cell_type": "code",
   "execution_count": 111,
   "id": "dbb12855-9eb9-4c02-88e3-27376de39649",
   "metadata": {},
   "outputs": [
    {
     "data": {
      "text/html": [
       "<div>\n",
       "<style scoped>\n",
       "    .dataframe tbody tr th:only-of-type {\n",
       "        vertical-align: middle;\n",
       "    }\n",
       "\n",
       "    .dataframe tbody tr th {\n",
       "        vertical-align: top;\n",
       "    }\n",
       "\n",
       "    .dataframe thead th {\n",
       "        text-align: right;\n",
       "    }\n",
       "</style>\n",
       "<table border=\"1\" class=\"dataframe\">\n",
       "  <thead>\n",
       "    <tr style=\"text-align: right;\">\n",
       "      <th></th>\n",
       "      <th>A</th>\n",
       "      <th>B</th>\n",
       "      <th>C</th>\n",
       "      <th>D</th>\n",
       "      <th>E</th>\n",
       "      <th>F</th>\n",
       "    </tr>\n",
       "  </thead>\n",
       "  <tbody>\n",
       "    <tr>\n",
       "      <th>0</th>\n",
       "      <td>1.0</td>\n",
       "      <td>2004-01-04</td>\n",
       "      <td>1.0</td>\n",
       "      <td>3</td>\n",
       "      <td>test</td>\n",
       "      <td>foo</td>\n",
       "    </tr>\n",
       "    <tr>\n",
       "      <th>1</th>\n",
       "      <td>1.0</td>\n",
       "      <td>2004-01-04</td>\n",
       "      <td>1.0</td>\n",
       "      <td>4</td>\n",
       "      <td>trains</td>\n",
       "      <td>foo</td>\n",
       "    </tr>\n",
       "    <tr>\n",
       "      <th>2</th>\n",
       "      <td>1.0</td>\n",
       "      <td>2004-01-04</td>\n",
       "      <td>1.0</td>\n",
       "      <td>5</td>\n",
       "      <td>validate</td>\n",
       "      <td>foo</td>\n",
       "    </tr>\n",
       "    <tr>\n",
       "      <th>3</th>\n",
       "      <td>1.0</td>\n",
       "      <td>2004-01-04</td>\n",
       "      <td>1.0</td>\n",
       "      <td>6</td>\n",
       "      <td>try</td>\n",
       "      <td>foo</td>\n",
       "    </tr>\n",
       "  </tbody>\n",
       "</table>\n",
       "</div>"
      ],
      "text/plain": [
       "     A          B    C  D         E    F\n",
       "0  1.0 2004-01-04  1.0  3      test  foo\n",
       "1  1.0 2004-01-04  1.0  4    trains  foo\n",
       "2  1.0 2004-01-04  1.0  5  validate  foo\n",
       "3  1.0 2004-01-04  1.0  6       try  foo"
      ]
     },
     "execution_count": 111,
     "metadata": {},
     "output_type": "execute_result"
    }
   ],
   "source": [
    "df2"
   ]
  },
  {
   "cell_type": "code",
   "execution_count": 116,
   "id": "d2c484da-2157-4ccb-8978-26a91ff6027a",
   "metadata": {},
   "outputs": [
    {
     "data": {
      "text/html": [
       "<div>\n",
       "<style scoped>\n",
       "    .dataframe tbody tr th:only-of-type {\n",
       "        vertical-align: middle;\n",
       "    }\n",
       "\n",
       "    .dataframe tbody tr th {\n",
       "        vertical-align: top;\n",
       "    }\n",
       "\n",
       "    .dataframe thead th {\n",
       "        text-align: right;\n",
       "    }\n",
       "</style>\n",
       "<table border=\"1\" class=\"dataframe\">\n",
       "  <thead>\n",
       "    <tr style=\"text-align: right;\">\n",
       "      <th></th>\n",
       "      <th>A</th>\n",
       "      <th>B</th>\n",
       "      <th>C</th>\n",
       "      <th>D</th>\n",
       "    </tr>\n",
       "  </thead>\n",
       "  <tbody>\n",
       "    <tr>\n",
       "      <th>2024-11-01</th>\n",
       "      <td>0.668393</td>\n",
       "      <td>2.000000</td>\n",
       "      <td>0.671319</td>\n",
       "      <td>4.0</td>\n",
       "    </tr>\n",
       "    <tr>\n",
       "      <th>2024-11-02</th>\n",
       "      <td>NaN</td>\n",
       "      <td>NaN</td>\n",
       "      <td>NaN</td>\n",
       "      <td>4.0</td>\n",
       "    </tr>\n",
       "    <tr>\n",
       "      <th>2024-11-03</th>\n",
       "      <td>2.005810</td>\n",
       "      <td>0.757105</td>\n",
       "      <td>NaN</td>\n",
       "      <td>4.0</td>\n",
       "    </tr>\n",
       "    <tr>\n",
       "      <th>2024-11-04</th>\n",
       "      <td>1.037308</td>\n",
       "      <td>1.030581</td>\n",
       "      <td>NaN</td>\n",
       "      <td>4.0</td>\n",
       "    </tr>\n",
       "    <tr>\n",
       "      <th>2024-11-05</th>\n",
       "      <td>NaN</td>\n",
       "      <td>NaN</td>\n",
       "      <td>0.812296</td>\n",
       "      <td>4.0</td>\n",
       "    </tr>\n",
       "    <tr>\n",
       "      <th>2024-11-06</th>\n",
       "      <td>1.104879</td>\n",
       "      <td>1.392624</td>\n",
       "      <td>1.214158</td>\n",
       "      <td>4.0</td>\n",
       "    </tr>\n",
       "  </tbody>\n",
       "</table>\n",
       "</div>"
      ],
      "text/plain": [
       "                   A         B         C    D\n",
       "2024-11-01  0.668393  2.000000  0.671319  4.0\n",
       "2024-11-02       NaN       NaN       NaN  4.0\n",
       "2024-11-03  2.005810  0.757105       NaN  4.0\n",
       "2024-11-04  1.037308  1.030581       NaN  4.0\n",
       "2024-11-05       NaN       NaN  0.812296  4.0\n",
       "2024-11-06  1.104879  1.392624  1.214158  4.0"
      ]
     },
     "execution_count": 116,
     "metadata": {},
     "output_type": "execute_result"
    }
   ],
   "source": [
    "df[df<0]=-df\n",
    "df"
   ]
  },
  {
   "cell_type": "code",
   "execution_count": 117,
   "id": "92b4bb5c-a61e-40e9-a343-20e77b796634",
   "metadata": {},
   "outputs": [
    {
     "data": {
      "text/html": [
       "<div>\n",
       "<style scoped>\n",
       "    .dataframe tbody tr th:only-of-type {\n",
       "        vertical-align: middle;\n",
       "    }\n",
       "\n",
       "    .dataframe tbody tr th {\n",
       "        vertical-align: top;\n",
       "    }\n",
       "\n",
       "    .dataframe thead th {\n",
       "        text-align: right;\n",
       "    }\n",
       "</style>\n",
       "<table border=\"1\" class=\"dataframe\">\n",
       "  <thead>\n",
       "    <tr style=\"text-align: right;\">\n",
       "      <th></th>\n",
       "      <th>A</th>\n",
       "      <th>B</th>\n",
       "      <th>C</th>\n",
       "      <th>D</th>\n",
       "    </tr>\n",
       "  </thead>\n",
       "  <tbody>\n",
       "    <tr>\n",
       "      <th>2024-11-01</th>\n",
       "      <td>0.668393</td>\n",
       "      <td>2.000000</td>\n",
       "      <td>0.671319</td>\n",
       "      <td>4.0</td>\n",
       "    </tr>\n",
       "    <tr>\n",
       "      <th>2024-11-02</th>\n",
       "      <td>NaN</td>\n",
       "      <td>NaN</td>\n",
       "      <td>NaN</td>\n",
       "      <td>4.0</td>\n",
       "    </tr>\n",
       "    <tr>\n",
       "      <th>2024-11-03</th>\n",
       "      <td>2.005810</td>\n",
       "      <td>0.757105</td>\n",
       "      <td>NaN</td>\n",
       "      <td>4.0</td>\n",
       "    </tr>\n",
       "    <tr>\n",
       "      <th>2024-11-04</th>\n",
       "      <td>1.037308</td>\n",
       "      <td>1.030581</td>\n",
       "      <td>NaN</td>\n",
       "      <td>4.0</td>\n",
       "    </tr>\n",
       "    <tr>\n",
       "      <th>2024-11-05</th>\n",
       "      <td>NaN</td>\n",
       "      <td>NaN</td>\n",
       "      <td>0.812296</td>\n",
       "      <td>4.0</td>\n",
       "    </tr>\n",
       "    <tr>\n",
       "      <th>2024-11-06</th>\n",
       "      <td>1.104879</td>\n",
       "      <td>1.392624</td>\n",
       "      <td>1.214158</td>\n",
       "      <td>4.0</td>\n",
       "    </tr>\n",
       "  </tbody>\n",
       "</table>\n",
       "</div>"
      ],
      "text/plain": [
       "                   A         B         C    D\n",
       "2024-11-01  0.668393  2.000000  0.671319  4.0\n",
       "2024-11-02       NaN       NaN       NaN  4.0\n",
       "2024-11-03  2.005810  0.757105       NaN  4.0\n",
       "2024-11-04  1.037308  1.030581       NaN  4.0\n",
       "2024-11-05       NaN       NaN  0.812296  4.0\n",
       "2024-11-06  1.104879  1.392624  1.214158  4.0"
      ]
     },
     "execution_count": 117,
     "metadata": {},
     "output_type": "execute_result"
    }
   ],
   "source": [
    "df[df<0.5]=np.nan\n",
    "df"
   ]
  },
  {
   "cell_type": "code",
   "execution_count": 118,
   "id": "d3d7acfc-8959-4a07-826d-f0d55d55bf33",
   "metadata": {},
   "outputs": [
    {
     "data": {
      "text/html": [
       "<div>\n",
       "<style scoped>\n",
       "    .dataframe tbody tr th:only-of-type {\n",
       "        vertical-align: middle;\n",
       "    }\n",
       "\n",
       "    .dataframe tbody tr th {\n",
       "        vertical-align: top;\n",
       "    }\n",
       "\n",
       "    .dataframe thead th {\n",
       "        text-align: right;\n",
       "    }\n",
       "</style>\n",
       "<table border=\"1\" class=\"dataframe\">\n",
       "  <thead>\n",
       "    <tr style=\"text-align: right;\">\n",
       "      <th></th>\n",
       "      <th>A</th>\n",
       "      <th>B</th>\n",
       "      <th>C</th>\n",
       "      <th>D</th>\n",
       "    </tr>\n",
       "  </thead>\n",
       "  <tbody>\n",
       "    <tr>\n",
       "      <th>2024-11-01</th>\n",
       "      <td>0.668393</td>\n",
       "      <td>2.000000</td>\n",
       "      <td>0.671319</td>\n",
       "      <td>4.0</td>\n",
       "    </tr>\n",
       "    <tr>\n",
       "      <th>2024-11-06</th>\n",
       "      <td>1.104879</td>\n",
       "      <td>1.392624</td>\n",
       "      <td>1.214158</td>\n",
       "      <td>4.0</td>\n",
       "    </tr>\n",
       "  </tbody>\n",
       "</table>\n",
       "</div>"
      ],
      "text/plain": [
       "                   A         B         C    D\n",
       "2024-11-01  0.668393  2.000000  0.671319  4.0\n",
       "2024-11-06  1.104879  1.392624  1.214158  4.0"
      ]
     },
     "execution_count": 118,
     "metadata": {},
     "output_type": "execute_result"
    }
   ],
   "source": [
    "df.dropna(how=\"any\")"
   ]
  },
  {
   "cell_type": "code",
   "execution_count": null,
   "id": "d975c648-7533-4919-bca0-c54cc92cb360",
   "metadata": {},
   "outputs": [],
   "source": []
  }
 ],
 "metadata": {
  "kernelspec": {
   "display_name": "Python 3 (ipykernel)",
   "language": "python",
   "name": "python3"
  },
  "language_info": {
   "codemirror_mode": {
    "name": "ipython",
    "version": 3
   },
   "file_extension": ".py",
   "mimetype": "text/x-python",
   "name": "python",
   "nbconvert_exporter": "python",
   "pygments_lexer": "ipython3",
   "version": "3.11.7"
  }
 },
 "nbformat": 4,
 "nbformat_minor": 5
}
