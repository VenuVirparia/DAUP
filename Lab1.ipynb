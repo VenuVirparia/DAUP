{
 "cells": [
  {
   "cell_type": "markdown",
   "id": "bee40654",
   "metadata": {},
   "source": [
    "## Experiment-1\n",
    "#### Aim: Introduction to python, numpy\n",
    "##### Bhuvnesh Sanathra IT-123"
   ]
  },
  {
   "cell_type": "code",
   "execution_count": 1,
   "id": "1f3ffb15",
   "metadata": {},
   "outputs": [
    {
     "name": "stdout",
     "output_type": "stream",
     "text": [
      "Bhuvnesh R Sanathra\n"
     ]
    }
   ],
   "source": [
    "print(\"Bhuvnesh R Sanathra\")"
   ]
  },
  {
   "cell_type": "code",
   "execution_count": 3,
   "id": "ed382a23",
   "metadata": {},
   "outputs": [
    {
     "name": "stdout",
     "output_type": "stream",
     "text": [
      "Hello: 10\n"
     ]
    }
   ],
   "source": [
    "a=10\n",
    "print(\"Hello: \"+ str(a))"
   ]
  },
  {
   "cell_type": "code",
   "execution_count": 4,
   "id": "8e8e93f0",
   "metadata": {},
   "outputs": [
    {
     "name": "stdout",
     "output_type": "stream",
     "text": [
      "100\n"
     ]
    }
   ],
   "source": [
    "a=10\n",
    "print(a**2)"
   ]
  },
  {
   "cell_type": "code",
   "execution_count": 5,
   "id": "389fd4dd",
   "metadata": {},
   "outputs": [
    {
     "name": "stdout",
     "output_type": "stream",
     "text": [
      "Bhuvnesh 10\n"
     ]
    }
   ],
   "source": [
    "print(f\"Bhuvnesh {a}\")"
   ]
  },
  {
   "cell_type": "code",
   "execution_count": 9,
   "id": "a9b38cb5",
   "metadata": {},
   "outputs": [
    {
     "name": "stdout",
     "output_type": "stream",
     "text": [
      "Value of A: 10,\n",
      "Value of B: 20.5,\n",
      "Value of C: True.\n"
     ]
    }
   ],
   "source": [
    "a=10\n",
    "b=20.5\n",
    "c=True\n",
    "\n",
    "print(f\"Value of A: {a},\\nValue of B: {b},\\nValue of C: {c}.\")"
   ]
  },
  {
   "cell_type": "code",
   "execution_count": 12,
   "id": "45ef73b7",
   "metadata": {},
   "outputs": [
    {
     "name": "stdout",
     "output_type": "stream",
     "text": [
      "Type of A: <class 'int'>,\n",
      "Type of B: <class 'float'>,\n",
      "Type of C: <class 'bool'>.\n"
     ]
    }
   ],
   "source": [
    "print(f\"Type of A: {type(a)},\\nType of B: {type(b)},\\nType of C: {type(c)}.\")"
   ]
  },
  {
   "cell_type": "markdown",
   "id": "647b68fc",
   "metadata": {},
   "source": [
    "# Mathematical Operation "
   ]
  },
  {
   "cell_type": "code",
   "execution_count": 17,
   "id": "cfda52c1",
   "metadata": {},
   "outputs": [],
   "source": [
    "# ESC M SHIFT+ENTER -> For Heading"
   ]
  },
  {
   "cell_type": "code",
   "execution_count": 20,
   "id": "be6e72e5",
   "metadata": {},
   "outputs": [
    {
     "name": "stdout",
     "output_type": "stream",
     "text": [
      "30\n",
      "-10\n",
      "200\n",
      "0.5\n",
      "0\n"
     ]
    }
   ],
   "source": [
    "a=10\n",
    "b=20\n",
    "\n",
    "print(a+b)\n",
    "print(a-b)\n",
    "print(a*b)\n",
    "print(a/b)  # /  With fraction point\n",
    "print(a//b) # // Remove Floating Point"
   ]
  },
  {
   "cell_type": "code",
   "execution_count": 26,
   "id": "83baf562",
   "metadata": {},
   "outputs": [
    {
     "name": "stdout",
     "output_type": "stream",
     "text": [
      "Value of A: 10 and B: 20\n",
      "a>b: False\n",
      "a<b: True\n",
      "a==b: False\n",
      "a!=b: True\n",
      "a&b: 0\n"
     ]
    }
   ],
   "source": [
    "a=10\n",
    "b=20\n",
    "print(f\"Value of A: {a} and B: {b}\")\n",
    "print(f\"a>b: {a>b}\")\n",
    "print(f\"a<b: {a<b}\")\n",
    "print(f\"a==b: {a==b}\")\n",
    "print(f\"a!=b: {a!=b}\")\n",
    "print(f\"a&b: {a&b}\")"
   ]
  },
  {
   "cell_type": "code",
   "execution_count": 32,
   "id": "1d83dc1a",
   "metadata": {},
   "outputs": [
    {
     "name": "stdout",
     "output_type": "stream",
     "text": [
      "The value of A: 20 and B: 30\n",
      "B: 30\n"
     ]
    }
   ],
   "source": [
    "a=20\n",
    "b=30\n",
    "\n",
    "print(f\"The value of A: {a} and B: {b}\")\n",
    "if(a>b):\n",
    "    print(f\"A: {a}\")\n",
    "else:\n",
    "    print(f\"B: {b}\")"
   ]
  },
  {
   "cell_type": "markdown",
   "id": "6642801f",
   "metadata": {},
   "source": [
    "## Looping Statements\n",
    "### For Loop"
   ]
  },
  {
   "cell_type": "code",
   "execution_count": 43,
   "id": "49811c4c",
   "metadata": {},
   "outputs": [
    {
     "name": "stdout",
     "output_type": "stream",
     "text": [
      "1\n",
      "2\n",
      "3\n",
      "4\n",
      "5\n",
      "6\n",
      "7\n",
      "8\n",
      "9\n",
      "10\n"
     ]
    }
   ],
   "source": [
    "a=10\n",
    "for i in range(a):\n",
    "    print(i+1)"
   ]
  },
  {
   "cell_type": "markdown",
   "id": "cdf33c84",
   "metadata": {},
   "source": [
    "### While Loop"
   ]
  },
  {
   "cell_type": "code",
   "execution_count": 44,
   "id": "a8d002a1",
   "metadata": {},
   "outputs": [
    {
     "name": "stdout",
     "output_type": "stream",
     "text": [
      "1\n",
      "2\n",
      "3\n",
      "4\n",
      "5\n",
      "6\n",
      "7\n",
      "8\n",
      "9\n",
      "10\n"
     ]
    }
   ],
   "source": [
    "# While Loop\n",
    "i=1\n",
    "while i<=a:\n",
    "    print(i)\n",
    "    i+=1 # i++ is not working in Python"
   ]
  },
  {
   "cell_type": "markdown",
   "id": "d3be7243",
   "metadata": {},
   "source": [
    "## Composite DataType in Python"
   ]
  },
  {
   "cell_type": "code",
   "execution_count": 84,
   "id": "e7839c61",
   "metadata": {},
   "outputs": [
    {
     "name": "stdout",
     "output_type": "stream",
     "text": [
      "This is from List: ['Bhuvnesh', 'R', 'Sanathra', '1', '2', '3', '4']\n",
      "This is from tuple: ('Bhuvnesh', 'R', 'Sanathra')\n",
      "This is from dictionary: {'Name': 'Bhuvnesh R Sanathra', 'Desegnition': 'Student'}\n",
      "This is from dictionary['Name']: Bhuvnesh R Sanathra\n",
      "This is from list[2:7:2]: ['Sanathra', '2', '4']\n",
      "This is from list[-1::-1] Reverse of List: ['4', '3', '2', '1', 'Sanathra', 'R', 'Bhuvnesh']\n"
     ]
    }
   ],
   "source": [
    "# Multiple data value we can store in one variable\n",
    "# List, Tuple And Dictionary\n",
    "# List: is immutable => []\n",
    "# Tuple: is Mutable => ()\n",
    "# Dictionary: Key Value => {key:value}\n",
    "# How to access the data using Index Value list[0]\n",
    "\n",
    "list =['Bhuvnesh','R','Sanathra','1','2','3','4']\n",
    "tuple=('Bhuvnesh','R','Sanathra')\n",
    "dictionary={'Name':'Bhuvnesh R Sanathra','Desegnition':'Student'}\n",
    "\n",
    "print(f\"This is from List: {list}\")\n",
    "print(f\"This is from tuple: {tuple}\")\n",
    "print(f\"This is from dictionary: {dictionary}\")\n",
    "print(f\"This is from dictionary['Name']: {dictionary['Name']}\")\n",
    "\n",
    "# Operations on Data\n",
    "# Array Slicing list[a:b:c] a-> Start Index b-> Last Index c-> Step Size\n",
    "print(f\"This is from list[2:7:2]: {list[2:7:2]}\")\n",
    "print(f\"This is from list[-1::-1] Reverse of List: {list[-1::-1]}\")"
   ]
  },
  {
   "cell_type": "markdown",
   "id": "d41dd8a3",
   "metadata": {},
   "source": [
    "## Function in Python\n",
    "### VoteCalculator Function"
   ]
  },
  {
   "cell_type": "code",
   "execution_count": 87,
   "id": "9b709d60",
   "metadata": {},
   "outputs": [
    {
     "name": "stdout",
     "output_type": "stream",
     "text": [
      "True\n"
     ]
    }
   ],
   "source": [
    "def voteCalculator(age):\n",
    "    if(age>=18):\n",
    "        return True\n",
    "    else:\n",
    "        return False\n",
    "\n",
    "print(voteCalculator(18));"
   ]
  },
  {
   "cell_type": "markdown",
   "id": "80dfb40d",
   "metadata": {},
   "source": [
    "### Factorial Function"
   ]
  },
  {
   "cell_type": "code",
   "execution_count": 110,
   "id": "60b5d2c9",
   "metadata": {},
   "outputs": [
    {
     "name": "stdout",
     "output_type": "stream",
     "text": [
      "Factorial of 5: 120\n",
      "\n",
      "Factorial using Looping\n",
      "------------------\n",
      "Factorial of 0'th Digit: 1\n",
      "Factorial of 1'th Digit: 1\n",
      "Factorial of 2'th Digit: 2\n",
      "Factorial of 3'th Digit: 6\n",
      "Factorial of 4'th Digit: 24\n",
      "Factorial of 5'th Digit: 120\n",
      "Factorial of 6'th Digit: 720\n",
      "Factorial of 7'th Digit: 5040\n",
      "Factorial of 8'th Digit: 40320\n",
      "Factorial of 9'th Digit: 362880\n"
     ]
    }
   ],
   "source": [
    "def factorial(fact):\n",
    "    if(fact <= 1):\n",
    "        return 1\n",
    "    else:\n",
    "        return fact*factorial(fact-1)\n",
    "    \n",
    "print(f\"Factorial of 5: {factorial(5)}\\n\")\n",
    "print(\"Factorial using Looping\\n------------------\")\n",
    "\n",
    "for i in range(10):\n",
    "    print(f\"Factorial of {i}'th Digit: {factorial(i)}\")"
   ]
  },
  {
   "cell_type": "markdown",
   "id": "8fbf7081",
   "metadata": {},
   "source": [
    "### Fibonacci Series"
   ]
  },
  {
   "cell_type": "code",
   "execution_count": 117,
   "id": "3c926cf1",
   "metadata": {},
   "outputs": [
    {
     "name": "stdout",
     "output_type": "stream",
     "text": [
      "Fibonacci of 5: 5\n",
      "\n",
      "Enter Number: 10\n",
      "\n",
      "Fibonacci using Looping\n",
      "------------------\n",
      "Fibonacci of 0'th Digit: 0\n",
      "Fibonacci of 1'th Digit: 1\n",
      "Fibonacci of 2'th Digit: 1\n",
      "Fibonacci of 3'th Digit: 2\n",
      "Fibonacci of 4'th Digit: 3\n",
      "Fibonacci of 5'th Digit: 5\n",
      "Fibonacci of 6'th Digit: 8\n",
      "Fibonacci of 7'th Digit: 13\n",
      "Fibonacci of 8'th Digit: 21\n",
      "Fibonacci of 9'th Digit: 34\n"
     ]
    }
   ],
   "source": [
    "def fibonacci(fib):\n",
    "    if(fib==0 or fib==1):\n",
    "        return fib\n",
    "    else:\n",
    "        return fibonacci(fib-1)+fibonacci(fib-2)\n",
    "\n",
    "print(f\"Fibonacci of 5: {fibonacci(5)}\\n\")\n",
    "\n",
    "a=int(input(\"Enter Number: \"))\n",
    "\n",
    "print(\"\\nFibonacci using Looping\\n------------------\")\n",
    "for i in range(10):\n",
    "    print(f\"Fibonacci of {i}'th Digit: {fibonacci(i)}\")"
   ]
  },
  {
   "cell_type": "markdown",
   "id": "f838cc37",
   "metadata": {},
   "source": [
    "# PIP\n",
    "### PIP Manual"
   ]
  },
  {
   "cell_type": "code",
   "execution_count": 120,
   "id": "dd0fa29f",
   "metadata": {},
   "outputs": [
    {
     "name": "stdout",
     "output_type": "stream",
     "text": [
      "\n",
      "Usage:   \n",
      "  C:\\Users\\user1\\anaconda3\\python.exe -m pip <command> [options]\n",
      "\n",
      "Commands:\n",
      "  install                     Install packages.\n",
      "  download                    Download packages.\n",
      "  uninstall                   Uninstall packages.\n",
      "  freeze                      Output installed packages in requirements format.\n",
      "  list                        List installed packages.\n",
      "  show                        Show information about installed packages.\n",
      "  check                       Verify installed packages have compatible dependencies.\n",
      "  config                      Manage local and global configuration.\n",
      "  search                      Search PyPI for packages.\n",
      "  cache                       Inspect and manage pip's wheel cache.\n",
      "  wheel                       Build wheels from your requirements.\n",
      "  hash                        Compute hashes of package archives.\n",
      "  completion                  A helper command used for command completion.\n",
      "  debug                       Show information useful for debugging.\n",
      "  help                        Show help for commands.\n",
      "\n",
      "General Options:\n",
      "  -h, --help                  Show help.\n",
      "  --isolated                  Run pip in an isolated mode, ignoring\n",
      "                              environment variables and user configuration.\n",
      "  -v, --verbose               Give more output. Option is additive, and can be\n",
      "                              used up to 3 times.\n",
      "  -V, --version               Show version and exit.\n",
      "  -q, --quiet                 Give less output. Option is additive, and can be\n",
      "                              used up to 3 times (corresponding to WARNING,\n",
      "                              ERROR, and CRITICAL logging levels).\n",
      "  --log <path>                Path to a verbose appending log.\n",
      "  --no-input                  Disable prompting for input.\n",
      "  --proxy <proxy>             Specify a proxy in the form\n",
      "                              [user:passwd@]proxy.server:port.\n",
      "  --retries <retries>         Maximum number of retries each connection should\n",
      "                              attempt (default 5 times).\n",
      "  --timeout <sec>             Set the socket timeout (default 15 seconds).\n",
      "  --exists-action <action>    Default action when a path already exists:\n",
      "                              (s)witch, (i)gnore, (w)ipe, (b)ackup, (a)bort.\n",
      "  --trusted-host <hostname>   Mark this host or host:port pair as trusted,\n",
      "                              even though it does not have valid or any HTTPS.\n",
      "  --cert <path>               Path to alternate CA bundle.\n",
      "  --client-cert <path>        Path to SSL client certificate, a single file\n",
      "                              containing the private key and the certificate\n",
      "                              in PEM format.\n",
      "  --cache-dir <dir>           Store the cache data in <dir>.\n",
      "  --no-cache-dir              Disable the cache.\n",
      "  --disable-pip-version-check\n",
      "                              Don't periodically check PyPI to determine\n",
      "                              whether a new version of pip is available for\n",
      "                              download. Implied with --no-index.\n",
      "  --no-color                  Suppress colored output.\n",
      "  --no-python-version-warning\n",
      "                              Silence deprecation warnings for upcoming\n",
      "                              unsupported Pythons.\n",
      "  --use-feature <feature>     Enable new functionality, that may be backward\n",
      "                              incompatible.\n",
      "  --use-deprecated <feature>  Enable deprecated functionality, that will be\n",
      "                              removed in the future.\n",
      "Note: you may need to restart the kernel to use updated packages.\n"
     ]
    }
   ],
   "source": [
    "pip --help\n"
   ]
  },
  {
   "cell_type": "markdown",
   "id": "cf1ca102",
   "metadata": {},
   "source": [
    "### Python Version"
   ]
  },
  {
   "cell_type": "code",
   "execution_count": 133,
   "id": "9b77391b",
   "metadata": {},
   "outputs": [
    {
     "name": "stdout",
     "output_type": "stream",
     "text": [
      "pip 21.0.1 from C:\\Users\\user1\\anaconda3\\lib\\site-packages\\pip (python 3.8)\n",
      "\n"
     ]
    }
   ],
   "source": [
    "# !pip -> It will install the packages in base environment\n",
    "# pip  -> it will install the packages in current kernel which is running\n",
    "!pip --version "
   ]
  },
  {
   "cell_type": "code",
   "execution_count": 131,
   "id": "577e44fc",
   "metadata": {},
   "outputs": [
    {
     "name": "stdout",
     "output_type": "stream",
     "text": [
      "pip 21.0.1 from C:\\Users\\user1\\anaconda3\\lib\\site-packages\\pip (python 3.8)\n",
      "\n",
      "Note: you may need to restart the kernel to use updated packages.\n"
     ]
    }
   ],
   "source": [
    "pip --version"
   ]
  },
  {
   "cell_type": "markdown",
   "id": "ae9376dd",
   "metadata": {},
   "source": [
    "# Numpy"
   ]
  },
  {
   "cell_type": "code",
   "execution_count": 134,
   "id": "cd98cb1e",
   "metadata": {},
   "outputs": [],
   "source": [
    "# It is Numerical Python\n",
    "# pip uninstall package\n",
    "# pip install package"
   ]
  },
  {
   "cell_type": "code",
   "execution_count": 137,
   "id": "a3d526aa",
   "metadata": {},
   "outputs": [
    {
     "name": "stdout",
     "output_type": "stream",
     "text": [
      "Requirement already satisfied: numpy in c:\\users\\user1\\anaconda3\\lib\\site-packages (1.20.1)Note: you may need to restart the kernel to use updated packages.\n",
      "\n"
     ]
    }
   ],
   "source": [
    "pip install numpy"
   ]
  },
  {
   "cell_type": "markdown",
   "id": "d617fc84",
   "metadata": {},
   "source": [
    "### One-dimensional Array"
   ]
  },
  {
   "cell_type": "code",
   "execution_count": 140,
   "id": "a2959141",
   "metadata": {},
   "outputs": [],
   "source": [
    "# Given name to Numpy -> np\n",
    "import numpy as np"
   ]
  },
  {
   "cell_type": "code",
   "execution_count": 152,
   "id": "2ac047fa",
   "metadata": {},
   "outputs": [
    {
     "name": "stdout",
     "output_type": "stream",
     "text": [
      "The A using numpy        : ['Bhuvnesh' 'R' 'Sanathra']\n",
      "The a[:] using numpy     : ['Bhuvnesh' 'R' 'Sanathra']\n",
      "The a[0:3] using numpy   : ['Bhuvnesh' 'R' 'Sanathra']\n",
      "The a[-1::-1] using numpy: ['Sanathra' 'R' 'Bhuvnesh']\n"
     ]
    }
   ],
   "source": [
    "# it will store the array\n",
    "a=np.array(['Bhuvnesh','R','Sanathra'])\n",
    "print(f'The A using numpy        : {a}')\n",
    "print(f'The a[:] using numpy     : {a[:]}')\n",
    "print(f'The a[0:3] using numpy   : {a[0:3]}')\n",
    "print(f'The a[-1::-1] using numpy: {a[-1::-1]}')"
   ]
  },
  {
   "cell_type": "markdown",
   "id": "ad8e155a",
   "metadata": {},
   "source": [
    "### Multi-dimensional Array"
   ]
  },
  {
   "cell_type": "code",
   "execution_count": 176,
   "id": "784c8e9c",
   "metadata": {},
   "outputs": [
    {
     "name": "stdout",
     "output_type": "stream",
     "text": [
      "The B using numpy        : \n",
      "\n",
      "[[1 2 3]\n",
      " [4 5 6]\n",
      " [7 8 9]]\n",
      "\n",
      "The B[0,2] using numpy   : 3\n",
      "\n",
      "The b[:] using numpy     : \n",
      "\n",
      "[[1 2 3]\n",
      " [4 5 6]\n",
      " [7 8 9]]\n",
      "\n",
      "The b[0:1] using numpy   : \n",
      "\n",
      "[[1 2 3]]\n",
      "\n",
      "The b[-1::-1] using numpy: \n",
      "\n",
      "[[7 8 9]\n",
      " [4 5 6]\n",
      " [1 2 3]]\n",
      "\n"
     ]
    }
   ],
   "source": [
    "b=np.array([[1,2,3],[4,5,6],[7,8,9]])\n",
    "print(f'The B using numpy        : \\n\\n{b}\\n')\n",
    "print(f'The B[0,2] using numpy   : {b[0,2]}\\n')\n",
    "print(f'The b[:] using numpy     : \\n\\n{b[:]}\\n')\n",
    "print(f'The b[0:1] using numpy   : \\n\\n{b[0:1]}\\n')\n",
    "print(f'The b[-1::-1] using numpy: \\n\\n{b[-1::-1]}\\n')"
   ]
  },
  {
   "cell_type": "markdown",
   "id": "3f4331ee",
   "metadata": {},
   "source": [
    "## Functions given to us For One Dimensional"
   ]
  },
  {
   "cell_type": "code",
   "execution_count": 175,
   "id": "b16f18b3",
   "metadata": {},
   "outputs": [
    {
     "name": "stdout",
     "output_type": "stream",
     "text": [
      "The a[0] using numpy    :Bhuvnesh\n",
      "The a[2:] using numpy   :['Sanathra']\n",
      "The a[:3] using numpy   :['Bhuvnesh' 'R' 'Sanathra']\n",
      "The a[-1] using numpy   :Sanathra\n",
      "The a[-3:] using numpy  :['Bhuvnesh' 'R' 'Sanathra']\n",
      "The a[1:2] using numpy  :['R']\n"
     ]
    }
   ],
   "source": [
    "\n",
    "print(f'The a[0] using numpy    :{a[0]}')\n",
    "print(f'The a[2:] using numpy   :{a[2:]}')\n",
    "print(f'The a[:3] using numpy   :{a[:3]}')\n",
    "print(f'The a[-1] using numpy   :{a[-1]}')\n",
    "print(f'The a[-3:] using numpy  :{a[-3:]}')\n",
    "print(f'The a[1:2] using numpy  :{a[1:2]}')"
   ]
  },
  {
   "cell_type": "markdown",
   "id": "1cc09fd0",
   "metadata": {},
   "source": [
    "## Functions given to us For Two-Dimensional"
   ]
  },
  {
   "cell_type": "code",
   "execution_count": 178,
   "id": "ad25e04e",
   "metadata": {},
   "outputs": [
    {
     "name": "stdout",
     "output_type": "stream",
     "text": [
      "The b[0,2] using numpy   : \n",
      "\n",
      "3\n",
      "\n",
      "The b[0,:] using numpy   : \n",
      "\n",
      "[1 2 3]\n",
      "\n",
      "The b[1,:] using numpy   : \n",
      "\n",
      "[4 5 6]\n",
      "\n",
      "The b[1:2,0:1] using numpy   : \n",
      "\n",
      "[[4]]\n",
      "\n",
      "The b[1:3,0:2] using numpy   : \n",
      "\n",
      "[[4 5]\n",
      " [7 8]]\n",
      "\n"
     ]
    }
   ],
   "source": [
    "print(f'The b[0,2] using numpy   : \\n\\n{b[0,2]}\\n')\n",
    "print(f'The b[0,:] using numpy   : \\n\\n{b[0,:]}\\n')\n",
    "print(f'The b[1,:] using numpy   : \\n\\n{b[1,:]}\\n')\n",
    "print(f'The b[1:2,0:1] using numpy   : \\n\\n{b[1:2,0:1]}\\n')\n",
    "print(f'The b[1:3,0:2] using numpy   : \\n\\n{b[1:3,0:2]}\\n')"
   ]
  },
  {
   "cell_type": "markdown",
   "id": "5edc7a01",
   "metadata": {},
   "source": [
    "## Arithmetic In Numpy Array"
   ]
  },
  {
   "cell_type": "code",
   "execution_count": 198,
   "id": "b2156dfa",
   "metadata": {},
   "outputs": [
    {
     "name": "stdout",
     "output_type": "stream",
     "text": [
      "The a+b using numpy   : \n",
      "\n",
      "[[ 2  4  6]\n",
      " [ 8 10 12]\n",
      " [14 16 18]]\n",
      "\n",
      "The a+10 using numpy  : \n",
      "\n",
      "[[11 12 13]\n",
      " [14 15 16]\n",
      " [17 18 19]]\n",
      "\n",
      "The a-b using numpy   : \n",
      "\n",
      "[[0 0 0]\n",
      " [0 0 0]\n",
      " [0 0 0]]\n",
      "\n",
      "The a*b using numpy   : \n",
      "\n",
      "[[ 1  4  9]\n",
      " [16 25 36]\n",
      " [49 64 81]]\n",
      "\n",
      "The np.dot(a,b) using numpy   : \n",
      "\n",
      "[[ 2  4  6]\n",
      " [ 8 10 12]\n",
      " [14 16 18]]\n",
      "\n",
      "The np.transpose(a) using numpy   : \n",
      "\n",
      "[[ 30  36  42]\n",
      " [ 66  81  96]\n",
      " [102 126 150]]\n",
      "\n",
      "The np.transpose(b) using numpy   : \n",
      "\n",
      "[[1 4 7]\n",
      " [2 5 8]\n",
      " [3 6 9]]\n",
      "\n",
      "The np.cross(a,b) using numpy   : \n",
      "\n",
      "[[0 0 0]\n",
      " [0 0 0]\n",
      " [0 0 0]]\n",
      "\n"
     ]
    }
   ],
   "source": [
    "a=np.array([[1,2,3],[4,5,6],[7,8,9]])\n",
    "b=np.array([[1,2,3],[4,5,6],[7,8,9]])\n",
    "print(f'The a+b using numpy   : \\n\\n{a+b}\\n')\n",
    "print(f'The a+10 using numpy  : \\n\\n{a+10}\\n')\n",
    "print(f'The a-b using numpy   : \\n\\n{a-b}\\n')\n",
    "print(f'The a*b using numpy   : \\n\\n{a*b}\\n')\n",
    "print(f'The np.dot(a,b) using numpy   : \\n\\n{a+b}\\n')\n",
    "print(f'The np.transpose(a) using numpy   : \\n\\n{np.dot(a,b)}\\n')\n",
    "print(f'The np.transpose(b) using numpy   : \\n\\n{np.transpose(b)}\\n')\n",
    "print(f'The np.cross(a,b) using numpy   : \\n\\n{np.cross(a,b)}\\n')"
   ]
  },
  {
   "cell_type": "markdown",
   "id": "b862fa4c",
   "metadata": {},
   "source": [
    "## Scientific Calculations"
   ]
  },
  {
   "cell_type": "code",
   "execution_count": 201,
   "id": "627132cd",
   "metadata": {},
   "outputs": [
    {
     "name": "stdout",
     "output_type": "stream",
     "text": [
      "The np.sin(a) using numpy   : \n",
      "\n",
      "[[ 0.84147098  0.90929743  0.14112001]\n",
      " [-0.7568025  -0.95892427 -0.2794155 ]\n",
      " [ 0.6569866   0.98935825  0.41211849]]\n",
      "\n",
      "The np.exp(a) using numpy   : \n",
      "\n",
      "[[2.71828183e+00 7.38905610e+00 2.00855369e+01]\n",
      " [5.45981500e+01 1.48413159e+02 4.03428793e+02]\n",
      " [1.09663316e+03 2.98095799e+03 8.10308393e+03]]\n",
      "\n",
      "The np.log(a) using numpy   : \n",
      "\n",
      "[[0.         0.69314718 1.09861229]\n",
      " [1.38629436 1.60943791 1.79175947]\n",
      " [1.94591015 2.07944154 2.19722458]]\n",
      "\n",
      "The np.abs(a) using numpy   : \n",
      "\n",
      "[[1 2 3]\n",
      " [4 5 6]\n",
      " [7 8 9]]\n",
      "\n"
     ]
    }
   ],
   "source": [
    "print(f'The np.sin(a) using numpy   : \\n\\n{np.sin(a)}\\n')\n",
    "print(f'The np.exp(a) using numpy   : \\n\\n{np.exp(a)}\\n')\n",
    "print(f'The np.log(a) using numpy   : \\n\\n{np.log(a)}\\n')\n",
    "print(f'The np.abs(a) using numpy   : \\n\\n{np.abs(a)}\\n')"
   ]
  },
  {
   "cell_type": "markdown",
   "id": "55438340",
   "metadata": {},
   "source": [
    "### Random Uniform"
   ]
  },
  {
   "cell_type": "code",
   "execution_count": 205,
   "id": "1ec68950",
   "metadata": {},
   "outputs": [
    {
     "name": "stdout",
     "output_type": "stream",
     "text": [
      "[[0.64541849 0.99004105]\n",
      " [0.81919061 0.521711  ]]\n"
     ]
    }
   ],
   "source": [
    "c=np.random.uniform(size=4).reshape(2,2)\n",
    "print(c)"
   ]
  }
 ],
 "metadata": {
  "kernelspec": {
   "display_name": "Python 3",
   "language": "python",
   "name": "python3"
  },
  "language_info": {
   "codemirror_mode": {
    "name": "ipython",
    "version": 3
   },
   "file_extension": ".py",
   "mimetype": "text/x-python",
   "name": "python",
   "nbconvert_exporter": "python",
   "pygments_lexer": "ipython3",
   "version": "3.8.8"
  }
 },
 "nbformat": 4,
 "nbformat_minor": 5
}
